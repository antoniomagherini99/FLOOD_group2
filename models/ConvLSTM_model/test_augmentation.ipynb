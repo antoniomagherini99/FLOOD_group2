{
 "cells": [
  {
   "cell_type": "markdown",
   "id": "73e3fcb7-8923-49bd-b31d-6a5b697bd1fe",
   "metadata": {},
   "source": [
    "### Data Augmentation\n",
    "\n",
    "In this notebook data augmentation is performed for improving the performances of the ConvLSTM model. "
   ]
  },
  {
   "cell_type": "code",
   "execution_count": 1,
   "id": "3d429f01-cb6c-4f9e-93fb-cdd420a4f612",
   "metadata": {},
   "outputs": [
    {
     "name": "stdout",
     "output_type": "stream",
     "text": [
      "c:\\Users\\anton\\OneDrive\\Desktop\\TU Delft\\Q6\\Data Science and Artificial Intelligence for Engineers\\FLOOD_group2\\models\n",
      "c:\\Users\\anton\\OneDrive\\Desktop\\TU Delft\\Q6\\Data Science and Artificial Intelligence for Engineers\\FLOOD_group2\n"
     ]
    }
   ],
   "source": [
    "%cd ..\n",
    "%cd ..\n",
    "# move to the root directory of the git"
   ]
  },
  {
   "cell_type": "code",
   "execution_count": 2,
   "id": "3804b918-987c-4142-a291-f151d13a5780",
   "metadata": {},
   "outputs": [],
   "source": [
    "import importlib\n",
    "import torch\n",
    "import copy\n",
    "\n",
    "import numpy as np\n",
    "import matplotlib.pyplot as plt\n",
    "import matplotlib.animation as animation\n",
    "import torch.nn as nn\n",
    "\n",
    "# Enable interactive widgets in Jupyter Notebook\n",
    "%matplotlib widget\n",
    "\n",
    "# import torch.nn.functional as F\n",
    "from torchsummary import summary\n",
    "from torch.utils.data.dataset import random_split\n",
    "from torch.utils.data import DataLoader\n",
    "from mpl_toolkits.axes_grid1 import make_axes_locatable\n",
    "\n",
    "from models.ConvLSTM_model.ConvLSTM_pytorch.convlstm import ConvLSTM\n",
    "from models.ConvLSTM_model.ConvLSTM_pytorch.multistep_convlstm import MultiStepConvLSTM\n",
    "from models.ConvLSTM_model.train_eval import train_epoch_conv_lstm, evaluation_conv_lstm\n",
    "from pre_processing.encode_decode_csv import decode_from_csv\n",
    "from pre_processing.normalization import * \n",
    "from pre_processing.augmentation import *\n",
    "from post_processing.cool_animation import plot_animation\n",
    "from post_processing.plots import *"
   ]
  },
  {
   "cell_type": "code",
   "execution_count": 3,
   "id": "af29ea0d-b11b-40eb-839a-d38771803139",
   "metadata": {},
   "outputs": [],
   "source": [
    "# model save path\n",
    "save_path = 'models/ConvLSTM_model/conv_lstm_4batch_16hidden_3kernel_augmentation.pth'"
   ]
  },
  {
   "cell_type": "code",
   "execution_count": 4,
   "id": "a86b0c0f-152f-4c4c-a77c-ba13942fe54c",
   "metadata": {},
   "outputs": [
    {
     "name": "stdout",
     "output_type": "stream",
     "text": [
      "Using device: cuda\n"
     ]
    }
   ],
   "source": [
    "device = torch.device('cuda' if torch.cuda.is_available() else 'cpu')\n",
    "print(f'Using device: {device}')"
   ]
  },
  {
   "cell_type": "code",
   "execution_count": 5,
   "id": "3f1af24d-3162-4ffe-b5c5-5517de643b0d",
   "metadata": {},
   "outputs": [],
   "source": [
    "train_val = 'train_val'\n",
    "test1 = 'test1'\n",
    "test2 = 'test2'\n",
    "test3 = 'test3'"
   ]
  },
  {
   "cell_type": "code",
   "execution_count": 6,
   "id": "5c4531f0-ffee-4a6f-9e7b-88029f5b3ec8",
   "metadata": {},
   "outputs": [
    {
     "name": "stdout",
     "output_type": "stream",
     "text": [
      "Restored inputs Shape: torch.Size([80, 1, 4, 64, 64])\n",
      "Restored targets Shape: torch.Size([80, 48, 2, 64, 64])\n"
     ]
    }
   ],
   "source": [
    "# training and validation dataset\n",
    "train_dataset = decode_from_csv(train_val)"
   ]
  },
  {
   "cell_type": "code",
   "execution_count": 7,
   "id": "cb23874c-ea94-483c-9e7a-6f695f6e365c",
   "metadata": {},
   "outputs": [],
   "source": [
    "# # From FAT application\n",
    "# fig, axs = plt.subplots(1, 4, figsize=(10, 5))\n",
    "\n",
    "# # specify which entry of the dataset to plot\n",
    "# numb = 0\n",
    "# inputs = train_dataset[numb][0][0]\n",
    "\n",
    "# axs[0].imshow(inputs[0].cpu(), cmap='terrain', origin='lower')\n",
    "# axs[0].set_title('DEM')\n",
    "\n",
    "# axs[1].imshow(inputs[1].cpu(), cmap='RdBu', origin='lower')\n",
    "# axs[1].set_title('Slope X')\n",
    "\n",
    "# axs[2].imshow(inputs[2].cpu(), cmap='RdBu', origin='lower')\n",
    "# axs[2].set_title('Slope Y')\n",
    "\n",
    "# non_zero_indices = torch.nonzero(inputs[3].cpu())\n",
    "# non_zero_row, non_zero_col = non_zero_indices[0][0].item(), non_zero_indices[0][1].item()\n",
    "# axs[3].imshow(inputs[3].cpu(), cmap='binary', origin='lower')\n",
    "# axs[3].set_title('Breach Location')\n",
    "# axs[3].scatter(non_zero_col, non_zero_row, color='k', marker='x', s=100,\n",
    "#                 clip_on = False, clip_box = plt.gca().transData)\n",
    "# plt.show()"
   ]
  },
  {
   "cell_type": "code",
   "execution_count": 8,
   "id": "269f969a",
   "metadata": {},
   "outputs": [],
   "source": [
    "def augmentation(train_dataset, range_t, p_hflip=0.5, p_vflip=0.5, full=True):\n",
    "    '''\n",
    "    Function for implementing data augmentation of inputs (DEM, X- and Y-Slope,\n",
    "    Water Depth, and Discharge).\n",
    "\n",
    "    Input: train_dataset = torch tensor, dataset with input variables\n",
    "           p_hflip, p_vflip = float, probability of horizontal and vertical flipping\n",
    "                              default = 0.5 for both\n",
    "           angles = angle degrees for dataset rotation, fixed at 0°, 90°, 180°, 270°\n",
    "    Output:\n",
    "    '''\n",
    "    # Define the transformation pipeline with horizontal and vertical flip\n",
    "    transformation_pipeline = transforms.Compose([\n",
    "        transforms.RandomHorizontalFlip(p=p_hflip),\n",
    "        transforms.RandomVerticalFlip(p=p_vflip)])\n",
    "\n",
    "    # Apply the transformation to each sample in the original dataset\n",
    "    transformed_samples = [transformation_pipeline(sample) for sample in train_dataset]\n",
    "\n",
    "    # Unpack the tuples and create a new dataset with the transformed samples\n",
    "    transformed_tensors = [torch.stack(sample) for sample in zip(*transformed_samples)]\n",
    "    transformed_dataset = torch.utils.data.TensorDataset(*transformed_tensors)\n",
    "\n",
    "    # Concatenate the original dataset and the transformed dataset\n",
    "    full_dataset = torch.utils.data.ConcatDataset([train_dataset, transformed_dataset])\n",
    "\n",
    "    # Print the shapes of datasets\n",
    "    # print(f\"Shape of train_dataset: {np.shape(train_dataset)}\")\n",
    "    # print(f\"Shape of transformed_dataset: {np.shape(transformed_dataset)}\")\n",
    "    # print(f\"Shape of full_dataset: {np.shape(full_dataset)}\")\n",
    "\n",
    "    return full_dataset if full else transformed_dataset"
   ]
  },
  {
   "cell_type": "code",
   "execution_count": 9,
   "id": "4c7a2667-7567-4102-8d58-79d480deb414",
   "metadata": {},
   "outputs": [],
   "source": [
    "# Normalize the inputs and outputs using training dataset\n",
    "scaler_x, scaler_wd, scaler_q = scaler(train_dataset)\n",
    "\n",
    "normalized_train_dataset = normalize_dataset(train_dataset, scaler_x, scaler_wd, scaler_q, train_val)"
   ]
  },
  {
   "cell_type": "code",
   "execution_count": 10,
   "id": "835b90da-4b00-428e-8548-6cde5db98217",
   "metadata": {},
   "outputs": [],
   "source": [
    "transformed_dataset = augmentation(normalized_train_dataset, range_t=len(normalized_train_dataset), p_hflip=0.5, p_vflip=0.5, full=True)"
   ]
  },
  {
   "cell_type": "code",
   "execution_count": 11,
   "id": "919513fc-bd71-4798-bb75-4e37fc692333",
   "metadata": {},
   "outputs": [],
   "source": [
    "# Split dataset into train and validation\n",
    "train_percnt = 0.8\n",
    "train_size = int(train_percnt * len(transformed_dataset))\n",
    "val_size = len(transformed_dataset) - train_size\n",
    "train_set, val_set = random_split(transformed_dataset, [train_size, val_size])"
   ]
  },
  {
   "cell_type": "code",
   "execution_count": 12,
   "id": "ff34c4e8",
   "metadata": {},
   "outputs": [],
   "source": [
    "# Model\n",
    "model = ConvLSTM(input_dim = train_set[0][0].shape[1], output_dim = train_set[0][1].shape[1], hidden_dim = 16, kernel_size = (3, 3),\n",
    "                 num_layers = 48, batch_first=True, bias=True, return_all_layers = True).to(device)\n",
    "# return all layers has to be true to obtain all the outputs I think\n",
    "# num_layers refers to the number of cells and thus outputs\n",
    "# Number of outputs = 4 gates * hidden_dim"
   ]
  },
  {
   "cell_type": "code",
   "execution_count": 13,
   "id": "49d6172a",
   "metadata": {},
   "outputs": [
    {
     "data": {
      "text/plain": [
       "ConvLSTM(\n",
       "  (conv2): Conv2d(16, 2, kernel_size=(1, 1), stride=(1, 1))\n",
       "  (cell_list): ModuleList(\n",
       "    (0): ConvLSTMCell(\n",
       "      (conv): Conv2d(20, 64, kernel_size=(3, 3), stride=(1, 1), padding=(1, 1))\n",
       "    )\n",
       "    (1-47): 47 x ConvLSTMCell(\n",
       "      (conv): Conv2d(32, 64, kernel_size=(3, 3), stride=(1, 1), padding=(1, 1))\n",
       "    )\n",
       "  )\n",
       ")"
      ]
     },
     "execution_count": 13,
     "metadata": {},
     "output_type": "execute_result"
    }
   ],
   "source": [
    "model"
   ]
  },
  {
   "cell_type": "code",
   "execution_count": 14,
   "id": "01c79e6f",
   "metadata": {},
   "outputs": [],
   "source": [
    "# Set training parameters\n",
    "learning_rate = 0.001\n",
    "batch_size = 4 # Only have 64 and 16 samples for training and validation, I think should be kept small, having issues where this only works if set to 1\n",
    "num_epochs = 50\n",
    "\n",
    "# Create the optimizer to train the neural network via back-propagation\n",
    "optimizer = torch.optim.Adam(params=model.parameters(), lr=learning_rate)\n",
    "\n",
    "# Create the training and validation dataloaders to \"feed\" data to the model in batches\n",
    "train_loader = DataLoader(train_set, batch_size=batch_size, shuffle=True)\n",
    "val_loader = DataLoader(val_set, batch_size=batch_size, shuffle=False)"
   ]
  },
  {
   "cell_type": "code",
   "execution_count": 15,
   "id": "5eee89bd",
   "metadata": {},
   "outputs": [
    {
     "name": "stdout",
     "output_type": "stream",
     "text": [
      "epoch: 10 \t training loss:  3.52e-03 \t validation loss:  3.39e-03\n",
      "epoch: 20 \t training loss:  3.50e-03 \t validation loss:  3.37e-03\n",
      "epoch: 30 \t training loss:  3.49e-03 \t validation loss:  3.36e-03\n",
      "epoch: 40 \t training loss:  3.37e-03 \t validation loss:  3.22e-03\n",
      "epoch: 50 \t training loss:  3.07e-03 \t validation loss:  2.99e-03\n"
     ]
    }
   ],
   "source": [
    "train_losses = []\n",
    "val_losses = []\n",
    "\n",
    "for epoch in range(1, num_epochs+1):\n",
    "    # Model training\n",
    "    train_loss = train_epoch_conv_lstm(model, train_loader, optimizer, device=device)\n",
    "\n",
    "    # Model validation\n",
    "    val_loss = evaluation_conv_lstm(model, val_loader, device=device)\n",
    "\n",
    "    if epoch == 1:\n",
    "        best_loss = val_loss\n",
    "    \n",
    "    if val_loss<=best_loss:\n",
    "        best_model = copy.deepcopy(model)\n",
    "        best_loss = val_loss\n",
    "        best_epoch = epoch\n",
    "\n",
    "    train_losses.append(train_loss)\n",
    "    val_losses.append(val_loss)\n",
    "\n",
    "    if epoch%10 == 0:\n",
    "        print(f\"epoch: {epoch} \\t training loss: {train_loss: .2e} \\t validation loss: {val_loss: .2e}\")"
   ]
  },
  {
   "cell_type": "code",
   "execution_count": 16,
   "id": "c606e578",
   "metadata": {},
   "outputs": [],
   "source": [
    "model = copy.deepcopy(best_model)\n",
    "torch.save(model.state_dict(), save_path)"
   ]
  },
  {
   "cell_type": "code",
   "execution_count": 17,
   "id": "44c0e35d-3866-4ff6-9ecb-d7b6ee0914a7",
   "metadata": {},
   "outputs": [
    {
     "data": {
      "application/vnd.jupyter.widget-view+json": {
       "model_id": "18e303f27eea44959ba805681ac66fec",
       "version_major": 2,
       "version_minor": 0
      },
      "image/png": "[encoded data removed]",
      "text/html": [
       "\n",
       "            <div style=\"display: inline-block;\">\n",
       "                <div class=\"jupyter-widgets widget-label\" style=\"text-align: center;\">\n",
       "                    Figure\n",
       "                </div>\n",
       "                <img src='data:image/png;base64,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' width=640.0/>\n",
       "            </div>\n",
       "        "
      ],
      "text/plain": [
       "Canvas(toolbar=Toolbar(toolitems=[('Home', 'Reset original view', 'home', 'home'), ('Back', 'Back to previous …"
      ]
     },
     "metadata": {},
     "output_type": "display_data"
    }
   ],
   "source": [
    "plot_losses(train_losses, val_losses, 'ConvLSTM (+ Augmentation) ')"
   ]
  },
  {
   "cell_type": "code",
   "execution_count": 18,
   "id": "47b11304-05a6-4f6e-a8e4-bd567d050ee3",
   "metadata": {},
   "outputs": [],
   "source": [
    "# plot_animation(10, normalized_train_dataset, model, train_val,\n",
    "#                scaler_x, scaler_wd, scaler_q, device = device, save = False)"
   ]
  },
  {
   "cell_type": "code",
   "execution_count": 152,
   "id": "374e8043-84d1-44a6-b80b-23d60e320cf8",
   "metadata": {},
   "outputs": [],
   "source": [
    "def plot_sorted(dataset, train_val, scaler_x, scaler_wd, scaler_q, model, device):\n",
    "    '''\n",
    "    Function for plotting the DEMs variation sorted in increasing order \n",
    "    of average loss (of Water Depth and Discharge)\n",
    "\n",
    "    Input: dataset = tensor, normalized dataset\n",
    "           train_val_test : str, Identifier of dictionary. Expects: 'train_val', 'test1', 'test2', 'test3'.\n",
    "           scaler_x, scaler_wd, scaler_q = scalers for inputs (x) and targets (water depth and discharge), created \n",
    "                                            with the scaler function \n",
    "    Output: None (plot)\n",
    "    '''\n",
    "    \n",
    "    # get inputs and outputs\n",
    "    # 1st sample, 2nd input(0)/target(1), 3rd time step, 4th features, 5th/6th pixels\n",
    "    \n",
    "    # input = dataset[0][0]\n",
    "    # target = dataset[0][1]\n",
    "    \n",
    "    n_samples = len(dataset)\n",
    "    n_features = dataset[0][1].shape[1]\n",
    "    n_pixels = dataset[0][1].shape[-1]\n",
    "    time_steps = dataset[0][1].shape[0]\n",
    "    \n",
    "    # initialize inputs and outputs\n",
    "    inputs = []\n",
    "    targets = []\n",
    "    \n",
    "    for i in range(n_samples):\n",
    "        inputs.append(dataset[i][0])\n",
    "        targets.append(dataset[i][1])\n",
    "\n",
    "    # initialize denormalization of dataset\n",
    "    elevations = np.zeros((n_samples, n_pixels, n_pixels))\n",
    "    water_depths = np.zeros((n_samples, time_steps, n_pixels, n_pixels))\n",
    "    discharges = np.zeros((n_samples, time_steps, n_pixels, n_pixels))\n",
    "    # print(discharges.shape)\n",
    "\n",
    "    # initialize losses\n",
    "    losses = torch.zeros((n_samples, n_features))\n",
    "    \n",
    "    for i in range(len(dataset)):\n",
    "        for t in range(time_steps):\n",
    "        # denormalize dataset\n",
    "            elevations[i], water_depths[i], discharges[i] = denormalize_dataset(inputs[i], targets[i], train_val, \n",
    "                                                            scaler_x, scaler_wd, scaler_q)\n",
    "        # make predictions\n",
    "        preds = obtain_predictions(model, inputs[i], device)\n",
    "\n",
    "        for feature in range(n_features):\n",
    "            # compute MSE losses\n",
    "            losses[i, feature] = nn.MSELoss()(preds[:][feature], targets[i][:][feature]) # [:, feature]\n",
    "    \n",
    "    # print(water_depths.shape)\n",
    "    elevations_tensor = torch.tensor(elevations)\n",
    "\n",
    "    # print(len(water_depths))\n",
    "    # print(f'Shape wd: {water_depths.shape}')\n",
    "    # print(f'Shape q: {discharges.shape}')\n",
    "\n",
    "    # print(f'Size wd: {water_depths.size}')\n",
    "    # print(f'Size q: {discharges.size}')\n",
    "\n",
    "    # compute average loss for sorting dataset\n",
    "    \n",
    "    # loss with water depth, improve with normalized\n",
    "    avg_loss = torch.mean(losses, dim=1) \n",
    "    \n",
    "    # compute recall - improvement: add minimium threshold for recall (wd > 10 cm), need to denormalize targets and predictions\n",
    "    # ask scaler what 10 is and plot that scaler_wd.transform(0.10) - check\n",
    "    recall, _, _ = confusion_mat(dataset, model, device)\n",
    "\n",
    "    # sorting dataset\n",
    "    sorted_loss, sorted_indexes = torch.sort(avg_loss)\n",
    "    print(sorted_indexes)\n",
    "    # # print(sorted_loss)\n",
    "    # # print(np.shape(sorted_loss))\n",
    "    # # sorted_indexes = torch.argsort(sorted_loss) #[index for index in sorted_loss]\n",
    "\n",
    "    # elevation_sorted = elevations[sorted_indexes] #[elevations[i] for i in sorted_indexes]\n",
    "    # # print(np.shape(elevation_sorted))\n",
    "    # wd_sorted, q_sorted = water_depths[sorted_indexes], discharges[sorted_indexes] #[water_depths[i] for i in sorted_indexes], [discharges[i] for i in sorted_indexes]\n",
    "    # sorted_recall = recall[sorted_indexes] #[recall[i] for i in sorted_indexes]\n",
    "    \n",
    "    # # plot \n",
    "    # fig, axes = plt.subplots(3, 1, figsize=(10, 10), sharex=True)\n",
    "    # fig.subplots_adjust(wspace=0.5)\n",
    "\n",
    "    # # create second y-axis for discharge scale\n",
    "    # ax1_2 = axes[1].twinx()\n",
    "    \n",
    "    # axes[0].boxplot(sorted_indexes, elevation_sorted.all()) \n",
    "    # axes[1].scatter(sorted_indexes, wd_sorted[:, 0, 0, 0], color='blue', label='water depth')\n",
    "    # ax1_2.scatter(sorted_indexes, q_sorted[:, 0, 0, 0], color='red', label='discharge')\n",
    "    # axes[2].scatter(sorted_indexes, sorted_recall, color='green', label='recall')\n",
    "\n",
    "    # for ax in axes:\n",
    "    #     ax.set_xlabel('Sample ID')\n",
    "    \n",
    "    # axes[0].set_ylabel('Normalized variation [-]')\n",
    "    # axes[1].set_ylabel('Normalized Water Depth loss [-]')\n",
    "    # ax1_2.set_ylabel('Normalized Discharge loss [-]')\n",
    "    # axes[2].set_ylabel('Recall [-]')\n",
    "\n",
    "    # axes[0].set_title('Normalized DEM variation [-]')\n",
    "    # axes[1].set_title('Normalized MSE loss [-]')\n",
    "    # axes[2].set_title('Recall [-]')\n",
    "\n",
    "    # plt.legend()\n",
    "    # plt.show()\n",
    "\n",
    "    return None"
   ]
  },
  {
   "cell_type": "code",
   "execution_count": 153,
   "id": "638bc68c",
   "metadata": {},
   "outputs": [
    {
     "name": "stdout",
     "output_type": "stream",
     "text": [
      "tensor([36, 20, 59, 24, 25, 76, 41, 33, 53, 66, 62, 30, 75, 43, 46, 79, 31, 22,\n",
      "        65,  6, 72, 42, 69, 18, 21, 45,  2, 38, 35, 14, 32, 58,  3, 23, 70, 47,\n",
      "        13, 44, 56,  8, 52,  1, 19, 57,  5, 39, 61, 49,  4, 78, 68, 26,  9,  7,\n",
      "        17, 27, 29, 63, 64, 37, 67, 60, 55, 34, 16, 74, 12, 77, 71, 11, 73, 28,\n",
      "        48,  0, 50, 51, 40, 10, 54, 15])\n"
     ]
    }
   ],
   "source": [
    "plot_sorted(normalized_train_dataset, train_val, scaler_x, scaler_wd, scaler_q, model, device)"
   ]
  },
  {
   "cell_type": "code",
   "execution_count": 21,
   "id": "3ce1a9e5-1438-4321-a5cf-e38a087bf93d",
   "metadata": {},
   "outputs": [
    {
     "data": {
      "text/plain": [
       "torch.Size([1, 4, 64, 64])"
      ]
     },
     "execution_count": 21,
     "metadata": {},
     "output_type": "execute_result"
    }
   ],
   "source": [
    "normalized_train_dataset[0][0].shape"
   ]
  }
 ],
 "metadata": {
  "kernelspec": {
   "display_name": "Python 3 (ipykernel)",
   "language": "python",
   "name": "python3"
  },
  "language_info": {
   "codemirror_mode": {
    "name": "ipython",
    "version": 3
   },
   "file_extension": ".py",
   "mimetype": "text/x-python",
   "name": "python",
   "nbconvert_exporter": "python",
   "pygments_lexer": "ipython3",
   "version": "3.8.18"
  }
 },
 "nbformat": 4,
 "nbformat_minor": 5
}
