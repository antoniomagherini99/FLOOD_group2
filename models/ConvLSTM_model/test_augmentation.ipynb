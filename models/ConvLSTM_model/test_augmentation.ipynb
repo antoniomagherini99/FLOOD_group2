{
 "cells": [
  {
   "cell_type": "markdown",
   "id": "73e3fcb7-8923-49bd-b31d-6a5b697bd1fe",
   "metadata": {},
   "source": [
    "### Data Augmentation\n",
    "\n",
    "In this notebook data augmentation is performed for improving the performances of the ConvLSTM model. "
   ]
  },
  {
   "cell_type": "code",
   "execution_count": 1,
   "id": "3d429f01-cb6c-4f9e-93fb-cdd420a4f612",
   "metadata": {},
   "outputs": [
    {
     "name": "stdout",
     "output_type": "stream",
     "text": [
      "/workspace/FLOOD_group2/models\n",
      "/workspace/FLOOD_group2\n"
     ]
    }
   ],
   "source": [
    "%cd ..\n",
    "%cd ..\n",
    "# move to the root directory of the git"
   ]
  },
  {
   "cell_type": "code",
   "execution_count": 2,
   "id": "3804b918-987c-4142-a291-f151d13a5780",
   "metadata": {},
   "outputs": [],
   "source": [
    "import importlib\n",
    "import torch\n",
    "import copy\n",
    "\n",
    "import numpy as np\n",
    "import matplotlib.pyplot as plt\n",
    "import matplotlib.animation as animation\n",
    "import torch.nn as nn\n",
    "\n",
    "# Enable interactive widgets in Jupyter Notebook\n",
    "%matplotlib widget\n",
    "\n",
    "# import torch.nn.functional as F\n",
    "from torchsummary import summary\n",
    "from torch.utils.data.dataset import random_split\n",
    "from torch.utils.data import DataLoader\n",
    "from mpl_toolkits.axes_grid1 import make_axes_locatable\n",
    "\n",
    "from models.ConvLSTM_model.ConvLSTM_pytorch.convlstm import ConvLSTM\n",
    "from models.ConvLSTM_model.train_eval import train_epoch_conv_lstm, evaluation_conv_lstm\n",
    "from pre_processing.encode_decode_csv import decode_from_csv\n",
    "from pre_processing.normalization import * \n",
    "from pre_processing.augmentation import *\n",
    "from post_processing.cool_animation import plot_animation\n",
    "from post_processing.plots import *"
   ]
  },
  {
   "cell_type": "code",
   "execution_count": 3,
   "id": "af29ea0d-b11b-40eb-839a-d38771803139",
   "metadata": {},
   "outputs": [],
   "source": [
    "# model save path\n",
    "save_path = 'models/ConvLSTM_model/conv_lstm_4batch_16hidden_3kernel_augmentation.pth'"
   ]
  },
  {
   "cell_type": "code",
   "execution_count": 4,
   "id": "a86b0c0f-152f-4c4c-a77c-ba13942fe54c",
   "metadata": {},
   "outputs": [
    {
     "name": "stdout",
     "output_type": "stream",
     "text": [
      "Using device: cuda\n"
     ]
    }
   ],
   "source": [
    "device = torch.device('cuda' if torch.cuda.is_available() else 'cpu')\n",
    "print(f'Using device: {device}')"
   ]
  },
  {
   "cell_type": "code",
   "execution_count": 5,
   "id": "3f1af24d-3162-4ffe-b5c5-5517de643b0d",
   "metadata": {},
   "outputs": [],
   "source": [
    "train_val = 'train_val'\n",
    "test1 = 'test1'\n",
    "test2 = 'test2'\n",
    "test3 = 'test3'"
   ]
  },
  {
   "cell_type": "code",
   "execution_count": 6,
   "id": "5c4531f0-ffee-4a6f-9e7b-88029f5b3ec8",
   "metadata": {},
   "outputs": [
    {
     "name": "stdout",
     "output_type": "stream",
     "text": [
      "Restored inputs Shape: torch.Size([80, 1, 4, 64, 64])\n",
      "Restored targets Shape: torch.Size([80, 48, 2, 64, 64])\n"
     ]
    }
   ],
   "source": [
    "# training and validation dataset\n",
    "train_dataset = decode_from_csv(train_val)"
   ]
  },
  {
   "cell_type": "code",
   "execution_count": 7,
   "id": "cb23874c-ea94-483c-9e7a-6f695f6e365c",
   "metadata": {},
   "outputs": [],
   "source": [
    "# # From FAT application\n",
    "# fig, axs = plt.subplots(1, 4, figsize=(10, 5))\n",
    "\n",
    "# # specify which entry of the dataset to plot\n",
    "# numb = 0\n",
    "# inputs = train_dataset[numb][0][0]\n",
    "\n",
    "# axs[0].imshow(inputs[0].cpu(), cmap='terrain', origin='lower')\n",
    "# axs[0].set_title('DEM')\n",
    "\n",
    "# axs[1].imshow(inputs[1].cpu(), cmap='RdBu', origin='lower')\n",
    "# axs[1].set_title('Slope X')\n",
    "\n",
    "# axs[2].imshow(inputs[2].cpu(), cmap='RdBu', origin='lower')\n",
    "# axs[2].set_title('Slope Y')\n",
    "\n",
    "# non_zero_indices = torch.nonzero(inputs[3].cpu())\n",
    "# non_zero_row, non_zero_col = non_zero_indices[0][0].item(), non_zero_indices[0][1].item()\n",
    "# axs[3].imshow(inputs[3].cpu(), cmap='binary', origin='lower')\n",
    "# axs[3].set_title('Breach Location')\n",
    "# axs[3].scatter(non_zero_col, non_zero_row, color='k', marker='x', s=100,\n",
    "#                 clip_on = False, clip_box = plt.gca().transData)\n",
    "# plt.show()"
   ]
  },
  {
   "cell_type": "code",
   "execution_count": 8,
   "id": "269f969a",
   "metadata": {},
   "outputs": [],
   "source": [
    "def augmentation(train_dataset, range_t, p_hflip=0.5, p_vflip=0.5, full=True):\n",
    "    '''\n",
    "    Function for implementing data augmentation of inputs (DEM, X- and Y-Slope,\n",
    "    Water Depth, and Discharge).\n",
    "\n",
    "    Input: train_dataset = torch tensor, dataset with input variables\n",
    "           p_hflip, p_vflip = float, probability of horizontal and vertical flipping\n",
    "                              default = 0.5 for both\n",
    "           angles = angle degrees for dataset rotation, fixed at 0°, 90°, 180°, 270°\n",
    "    Output:\n",
    "    '''\n",
    "    # Define the transformation pipeline with horizontal and vertical flip\n",
    "    transformation_pipeline = transforms.Compose([\n",
    "        transforms.RandomHorizontalFlip(p=p_hflip),\n",
    "        transforms.RandomVerticalFlip(p=p_vflip)])\n",
    "\n",
    "    # Apply the transformation to each sample in the original dataset\n",
    "    transformed_samples = [transformation_pipeline(sample) for sample in train_dataset]\n",
    "\n",
    "    # Unpack the tuples and create a new dataset with the transformed samples\n",
    "    transformed_tensors = [torch.stack(sample) for sample in zip(*transformed_samples)]\n",
    "    transformed_dataset = torch.utils.data.TensorDataset(*transformed_tensors)\n",
    "\n",
    "    # Concatenate the original dataset and the transformed dataset\n",
    "    full_dataset = torch.utils.data.ConcatDataset([train_dataset, transformed_dataset])\n",
    "\n",
    "    # Print the shapes of datasets\n",
    "    # print(f\"Shape of train_dataset: {np.shape(train_dataset)}\")\n",
    "    # print(f\"Shape of transformed_dataset: {np.shape(transformed_dataset)}\")\n",
    "    # print(f\"Shape of full_dataset: {np.shape(full_dataset)}\")\n",
    "\n",
    "    return full_dataset if full else transformed_dataset"
   ]
  },
  {
   "cell_type": "code",
   "execution_count": 9,
   "id": "4c7a2667-7567-4102-8d58-79d480deb414",
   "metadata": {},
   "outputs": [],
   "source": [
    "# Normalize the inputs and outputs using training dataset\n",
    "scaler_x, scaler_wd, scaler_q = scaler(train_dataset)\n",
    "\n",
    "normalized_train_dataset = normalize_dataset(train_dataset, scaler_x, scaler_wd, scaler_q, train_val)"
   ]
  },
  {
   "cell_type": "code",
   "execution_count": 10,
   "id": "835b90da-4b00-428e-8548-6cde5db98217",
   "metadata": {},
   "outputs": [],
   "source": [
    "transformed_dataset = augmentation(normalized_train_dataset, range_t=len(normalized_train_dataset), p_hflip=0.5, p_vflip=0.5, full=True)"
   ]
  },
  {
   "cell_type": "code",
   "execution_count": 11,
   "id": "58317ef0",
   "metadata": {},
   "outputs": [],
   "source": [
    "# np.shape(transformed_dataset)"
   ]
  },
  {
   "cell_type": "code",
   "execution_count": 12,
   "id": "1f1825a0",
   "metadata": {},
   "outputs": [],
   "source": [
    "# concat = torch.utils.data.ConcatDataset([normalized_train_dataset, transformed_dataset], collate_fn=collate_fn, shuffle=True)"
   ]
  },
  {
   "cell_type": "code",
   "execution_count": 13,
   "id": "08345a88",
   "metadata": {},
   "outputs": [],
   "source": [
    "# len(concat)"
   ]
  },
  {
   "cell_type": "code",
   "execution_count": 14,
   "id": "919513fc-bd71-4798-bb75-4e37fc692333",
   "metadata": {},
   "outputs": [],
   "source": [
    "# Split dataset into train and validation\n",
    "train_percnt = 0.8\n",
    "train_size = int(train_percnt * len(transformed_dataset))\n",
    "val_size = len(transformed_dataset) - train_size\n",
    "train_set, val_set = random_split(transformed_dataset, [train_size, val_size])"
   ]
  },
  {
   "cell_type": "code",
   "execution_count": 15,
   "id": "ff34c4e8",
   "metadata": {},
   "outputs": [],
   "source": [
    "# Model\n",
    "model = ConvLSTM(input_dim = train_set[0][0].shape[1], output_dim = train_set[0][1].shape[1], hidden_dim = 16, kernel_size = (3, 3),\n",
    "                 num_layers = 48, batch_first=True, bias=True, return_all_layers = True).to(device)\n",
    "# return all layers has to be true to obtain all the outputs I think\n",
    "# num_layers refers to the number of cells and thus outputs\n",
    "# Number of outputs = 4 gates * hidden_dim"
   ]
  },
  {
   "cell_type": "code",
   "execution_count": 16,
   "id": "49d6172a",
   "metadata": {},
   "outputs": [
    {
     "data": {
      "text/plain": [
       "ConvLSTM(\n",
       "  (conv2): Conv2d(16, 2, kernel_size=(1, 1), stride=(1, 1))\n",
       "  (cell_list): ModuleList(\n",
       "    (0): ConvLSTMCell(\n",
       "      (conv): Conv2d(20, 64, kernel_size=(3, 3), stride=(1, 1), padding=(1, 1))\n",
       "    )\n",
       "    (1-47): 47 x ConvLSTMCell(\n",
       "      (conv): Conv2d(32, 64, kernel_size=(3, 3), stride=(1, 1), padding=(1, 1))\n",
       "    )\n",
       "  )\n",
       ")"
      ]
     },
     "execution_count": 16,
     "metadata": {},
     "output_type": "execute_result"
    }
   ],
   "source": [
    "model"
   ]
  },
  {
   "cell_type": "code",
   "execution_count": 17,
   "id": "01c79e6f",
   "metadata": {},
   "outputs": [],
   "source": [
    "# Set training parameters\n",
    "learning_rate = 0.001\n",
    "batch_size = 4 # Only have 64 and 16 samples for training and validation, I think should be kept small, having issues where this only works if set to 1\n",
    "num_epochs = 50\n",
    "\n",
    "# Create the optimizer to train the neural network via back-propagation\n",
    "optimizer = torch.optim.Adam(params=model.parameters(), lr=learning_rate)\n",
    "\n",
    "# Create the training and validation dataloaders to \"feed\" data to the model in batches\n",
    "train_loader = DataLoader(train_set, batch_size=batch_size, shuffle=True)\n",
    "val_loader = DataLoader(val_set, batch_size=batch_size, shuffle=False)"
   ]
  },
  {
   "cell_type": "code",
   "execution_count": 18,
   "id": "5eee89bd",
   "metadata": {},
   "outputs": [
    {
     "name": "stdout",
     "output_type": "stream",
     "text": [
      "epoch: 10 \t training loss:  3.35e-03 \t validation loss:  3.35e-03\n",
      "epoch: 20 \t training loss:  3.30e-03 \t validation loss:  3.29e-03\n",
      "epoch: 30 \t training loss:  3.18e-03 \t validation loss:  3.17e-03\n",
      "epoch: 40 \t training loss:  3.11e-03 \t validation loss:  3.11e-03\n",
      "epoch: 50 \t training loss:  2.88e-03 \t validation loss:  2.91e-03\n"
     ]
    }
   ],
   "source": [
    "train_losses = []\n",
    "val_losses = []\n",
    "\n",
    "for epoch in range(1, num_epochs+1):\n",
    "    # Model training\n",
    "    train_loss = train_epoch_conv_lstm(model, train_loader, optimizer, device=device)\n",
    "\n",
    "    # Model validation\n",
    "    val_loss = evaluation_conv_lstm(model, val_loader, device=device)\n",
    "\n",
    "    if epoch == 1:\n",
    "        best_loss = val_loss\n",
    "    \n",
    "    if val_loss<=best_loss:\n",
    "        best_model = copy.deepcopy(model)\n",
    "        best_loss = val_loss\n",
    "        best_epoch = epoch\n",
    "\n",
    "    train_losses.append(train_loss)\n",
    "    val_losses.append(val_loss)\n",
    "\n",
    "    if epoch%10 == 0:\n",
    "        print(f\"epoch: {epoch} \\t training loss: {train_loss: .2e} \\t validation loss: {val_loss: .2e}\")"
   ]
  },
  {
   "cell_type": "code",
   "execution_count": 19,
   "id": "c606e578",
   "metadata": {},
   "outputs": [],
   "source": [
    "model = copy.deepcopy(best_model)\n",
    "torch.save(model.state_dict(), save_path)"
   ]
  },
  {
   "cell_type": "code",
   "execution_count": 20,
   "id": "44c0e35d-3866-4ff6-9ecb-d7b6ee0914a7",
   "metadata": {},
   "outputs": [
    {
     "data": {
      "application/vnd.jupyter.widget-view+json": {
       "model_id": "078d6c0a8f524a9ab424c4413181ef24",
       "version_major": 2,
       "version_minor": 0
      },
      "image/png": "[encoded data removed]",
      "text/html": [
       "\n",
       "            <div style=\"display: inline-block;\">\n",
       "                <div class=\"jupyter-widgets widget-label\" style=\"text-align: center;\">\n",
       "                    Figure\n",
       "                </div>\n",
       "                <img src='data:image/png;base64,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' width=640.0/>\n",
       "            </div>\n",
       "        "
      ],
      "text/plain": [
       "Canvas(toolbar=Toolbar(toolitems=[('Home', 'Reset original view', 'home', 'home'), ('Back', 'Back to previous …"
      ]
     },
     "metadata": {},
     "output_type": "display_data"
    }
   ],
   "source": [
    "plot_losses(train_losses, val_losses, 'ConvLSTM (+ Augmentation) ')"
   ]
  },
  {
   "cell_type": "code",
   "execution_count": 21,
   "id": "47b11304-05a6-4f6e-a8e4-bd567d050ee3",
   "metadata": {},
   "outputs": [],
   "source": [
    "# plot_animation(10, normalized_train_dataset, model, train_val,\n",
    "#                scaler_x, scaler_wd, scaler_q, device = device, save = False)"
   ]
  },
  {
   "cell_type": "code",
   "execution_count": 34,
   "id": "374e8043-84d1-44a6-b80b-23d60e320cf8",
   "metadata": {},
   "outputs": [],
   "source": [
    "def plot_sorted(dataset, train_val, scaler_x, scaler_wd, scaler_q, model, device):\n",
    "    '''\n",
    "    Function for plotting the DEMs variation sorted in increasing order \n",
    "    of average loss (of Water Depth and Discharge)\n",
    "\n",
    "    Input: dataset = tensor, normalized dataset\n",
    "           train_val_test : str, Identifier of dictionary. Expects: 'train_val', 'test1', 'test2', 'test3'.\n",
    "           scaler_x, scaler_wd, scaler_q = scalers for inputs (x) and targets (water depth and discharge), created \n",
    "                                            with the scaler function \n",
    "    Output: None (plot)\n",
    "    '''\n",
    "    \n",
    "    # get inputs and outputs\n",
    "    # 1st sample, 2nd input(0)/target(1), 3rd time step, 4th features, 5th/6th pixels\n",
    "    \n",
    "    # input = dataset[0][0]\n",
    "    # target = dataset[0][1]\n",
    "    \n",
    "    n_samples = len(dataset)\n",
    "    n_features = dataset[0][1].shape[1]\n",
    "    n_pixels = dataset[0][1].shape[-1]\n",
    "\n",
    "    # initialize inputs and outputs\n",
    "    inputs = []\n",
    "    targets = []\n",
    "    \n",
    "    for i in range(n_samples):\n",
    "        inputs.append(dataset[i][0])\n",
    "        targets.append(dataset[i][1])\n",
    "\n",
    "    # initialize denormalization of dataset\n",
    "    elevations = np.zeros((n_samples, n_pixels, n_pixels))\n",
    "    print(type(elevations))\n",
    "    # initialize losses\n",
    "    losses = torch.zeros((n_samples, n_features))\n",
    "    \n",
    "    for i in range(len(dataset)):\n",
    "        # denormalize dataset\n",
    "        elevations[i], water_depth, discharges = denormalize_dataset(inputs[i], targets[i], train_val, \n",
    "                                                            scaler_x, scaler_wd, scaler_q)\n",
    "        # make predictions\n",
    "        preds = obtain_predictions(model, inputs[i], device)\n",
    "\n",
    "        for feature in range(n_features):\n",
    "            # compute MSE losses\n",
    "            losses[i, feature] = nn.MSELoss()(preds[:][feature], targets[i][:][feature]) # [:, feature]\n",
    "    elevations_tensor = torch.tensor(elevations)\n",
    "    print(type(elevations_tensor))\n",
    "    # compute average loss for sorting dataset\n",
    "    print(losses.shape)\n",
    "    # loss with water depth, improve with normalized\n",
    "    # avg_loss = torch.mean() (losses[0]+losses[1])/2\n",
    "\n",
    "    # # compute recall - improvement: add minimium threshold for recall (wd > 10 cm), need to denormalize targets and predictions\n",
    "    # ask scaler what 10 is and plot that scaler_wd.transform(0.10) - check\n",
    "    # recall, _, _ = confusion_mat(dataset, model, device)\n",
    "\n",
    "    # # sorting dataset\n",
    "    # elevation_sorted = sorted(elevation)\n",
    "    # sorted_indexes = [index for index, _ in elevation_sorted]\n",
    "    # wd_sorted, q_sorted = [water_depth[i] for i in sorted_indexes], [discharge[i] for i in sorted_indexes]\n",
    "    # sorted_recall = [recall[i] for i in sorted_indexes]\n",
    "\n",
    "    # elevation_var = np.std(elevation_sorted)\n",
    "    \n",
    "    # # plot \n",
    "    # fig, axes = plt.subplots(3, 1, figsize=(10, 10), sharex=True)\n",
    "    # fig.subplots_adjust(wspace=0.5)\n",
    "\n",
    "    # # create second y-axis for discharge scale\n",
    "    # ax1_2 = axes[1].twinx()\n",
    "\n",
    "    # axes[0].boxplot(sorted_indexes, elevation_var, label='DEM')\n",
    "    # axes[1].plot(sorted_indexes, wd_sorted, color='blue', label='water depth')\n",
    "    # ax1_2.plot(sorted_indexes, q_sorted, color='red', label='discharge')\n",
    "    # axes[2].scatter(sorted_indexes, sorted_recall, color='green', label='recall')\n",
    "\n",
    "    # for ax in axes:\n",
    "    #     ax.set_xlabel('Sample ID')\n",
    "    \n",
    "    # axes[0].set_ylabel('Normalized variation [-]')\n",
    "    # axes[1].set_ylabel('Normalized Water Depth loss [-]')\n",
    "    # ax1_2.set_ylabel('Normalized Discharge loss [-]')\n",
    "    # axes[2].set_ylabel('Recall [-]')\n",
    "\n",
    "    # axes[0].set_title('Normalized DEM variation [-]')\n",
    "    # axes[1].set_title('Normalized MSE loss [-]')\n",
    "    # axes[2].set_title('Recall [-]')\n",
    "\n",
    "    # plt.legend()\n",
    "    # plt.show()\n",
    "\n",
    "    return None"
   ]
  },
  {
   "cell_type": "code",
   "execution_count": 35,
   "id": "638bc68c",
   "metadata": {},
   "outputs": [
    {
     "name": "stdout",
     "output_type": "stream",
     "text": [
      "<class 'numpy.ndarray'>\n",
      "<class 'torch.Tensor'>\n",
      "torch.Size([80, 2])\n"
     ]
    }
   ],
   "source": [
    "plot_sorted(normalized_train_dataset, train_val, scaler_x, scaler_wd, scaler_q, model, device)"
   ]
  },
  {
   "cell_type": "code",
   "execution_count": null,
   "id": "3ce1a9e5-1438-4321-a5cf-e38a087bf93d",
   "metadata": {},
   "outputs": [],
   "source": [
    "normalized_train_dataset[0][0].shape"
   ]
  }
 ],
 "metadata": {
  "kernelspec": {
   "display_name": "Python 3 (ipykernel)",
   "language": "python",
   "name": "python3"
  },
  "language_info": {
   "codemirror_mode": {
    "name": "ipython",
    "version": 3
   },
   "file_extension": ".py",
   "mimetype": "text/x-python",
   "name": "python",
   "nbconvert_exporter": "python",
   "pygments_lexer": "ipython3",
   "version": "3.8.18"
  }
 },
 "nbformat": 4,
 "nbformat_minor": 5
}
