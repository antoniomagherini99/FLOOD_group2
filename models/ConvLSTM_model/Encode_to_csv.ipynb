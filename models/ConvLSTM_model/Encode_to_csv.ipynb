{
 "cells": [
  {
   "cell_type": "markdown",
   "metadata": {
    "cell_id": "6745e274f5da440d8f75866d3a55b9d6",
    "deepnote_cell_type": "markdown"
   },
   "source": [
    "# Encode files into _.csv_ "
   ]
  },
  {
   "cell_type": "markdown",
   "metadata": {},
   "source": [
    "This notebook is used to encode inputs and targets datasets into *.csv* files for reducing the loading time.\n",
    "It was developed for CEGM2003 DSAIE Crossover Module during 2023/2024 academic year at Delft University of Technology, Faculty of Civil Engineering and Geosciences.\n",
    "\n",
    "Group: FLOOD2 ([GitHub group repository](https://github.com/antoniomagherini99/FLOOD_group2)). \n",
    "\n",
    "Authors of the notebook:\n",
    "- Lucas Terlinden-Ruhl \n",
    "\\\n",
    "(student number: 5863937, email: L.J.R.Terlinden-Ruhl@student.tudelft.nl)\n",
    "\n",
    "\n",
    "- Antonio Magherini \n",
    "\\\n",
    "(student number: 5838215, email: A.Magherini@student.tudelft.nl)"
   ]
  },
  {
   "cell_type": "markdown",
   "metadata": {},
   "source": [
    "<span style=\"color: red;\">**Please note! Unless something is changed in <code>load_datasets.py</code> or <code>encode_into_csv.py</code>, this notebook does not have to be re run.**</span>\n",
    "\n"
   ]
  },
  {
   "cell_type": "code",
   "execution_count": 1,
   "metadata": {},
   "outputs": [
    {
     "name": "stdout",
     "output_type": "stream",
     "text": [
      "/workspace/FLOOD_group2/models\n",
      "/workspace/FLOOD_group2\n"
     ]
    }
   ],
   "source": [
    "# move to the root directory of the git\n",
    "%cd ..\n",
    "%cd .."
   ]
  },
  {
   "cell_type": "code",
   "execution_count": 2,
   "metadata": {
    "cell_id": "317a1931967a493a820fae093f628cfa",
    "deepnote_cell_type": "code",
    "deepnote_to_be_reexecuted": false,
    "execution_millis": 777,
    "execution_start": 1703258901929,
    "source_hash": "26b410bf"
   },
   "outputs": [],
   "source": [
    "# import libraries and modules\n",
    "import torch\n",
    "\n",
    "from pre_processing.load_datasets import *\n",
    "from pre_processing.encode_decode_csv import *"
   ]
  },
  {
   "cell_type": "markdown",
   "metadata": {
    "cell_id": "3b8c87dfefcc4dcb9099e17e1193a568",
    "deepnote_cell_type": "markdown"
   },
   "source": [
    "Check if GPU is available."
   ]
  },
  {
   "cell_type": "code",
   "execution_count": 3,
   "metadata": {
    "cell_id": "388661982cff45b2bff8175da7fa4243",
    "deepnote_cell_type": "code",
    "deepnote_to_be_reexecuted": false,
    "execution_millis": 8,
    "execution_start": 1703258909998,
    "source_hash": "407af93f"
   },
   "outputs": [
    {
     "name": "stdout",
     "output_type": "stream",
     "text": [
      "Using device: cuda\n"
     ]
    }
   ],
   "source": [
    "device = torch.device('cuda' if torch.cuda.is_available() else 'cpu')\n",
    "print(f'Using device: {device}')"
   ]
  },
  {
   "cell_type": "markdown",
   "metadata": {
    "cell_id": "4c107907144b43e5863002290b74aa57",
    "deepnote_cell_type": "markdown"
   },
   "source": [
    "The following lines create variables to more easily specify what we use the model for and therefore which dataset to load in the following functions.\n",
    "\n",
    "<code>train_val</code> specifies the model is used for training and validation, <code>test1</code> specifies the model is used for testing dataset 1, etc."
   ]
  },
  {
   "cell_type": "code",
   "execution_count": 4,
   "metadata": {
    "cell_id": "6b7157af37c844b28bc5bf399b6be62b",
    "deepnote_cell_type": "code",
    "deepnote_to_be_reexecuted": false,
    "execution_millis": 8,
    "execution_start": 1703258911722,
    "source_hash": "2f7e85f"
   },
   "outputs": [],
   "source": [
    "train_val = 'train_val'\n",
    "test1 = 'test1'\n",
    "test2 = 'test2'\n",
    "test3 = 'test3'"
   ]
  },
  {
   "cell_type": "markdown",
   "metadata": {
    "cell_id": "5b334a37768c48e1b5fa83c00a44e9f9",
    "deepnote_cell_type": "markdown"
   },
   "source": [
    "Encode and then load training and validation dataset."
   ]
  },
  {
   "cell_type": "code",
   "execution_count": null,
   "metadata": {
    "cell_id": "e0c9b1b5f426489bb5e1009b5d3b2345",
    "deepnote_cell_type": "code",
    "deepnote_to_be_reexecuted": false,
    "execution_millis": 86552,
    "execution_start": 1703262231238,
    "scrolled": true,
    "source_hash": "4ff12bd1"
   },
   "outputs": [],
   "source": [
    "inputs, targets = load_all_boys(train_val)"
   ]
  },
  {
   "cell_type": "code",
   "execution_count": null,
   "metadata": {},
   "outputs": [],
   "source": [
    "inps, targs = encode_into_csv(inputs, targets, train_val)"
   ]
  },
  {
   "cell_type": "markdown",
   "metadata": {},
   "source": [
    "Encode and then load test dataset 1."
   ]
  },
  {
   "cell_type": "code",
   "execution_count": null,
   "metadata": {},
   "outputs": [],
   "source": [
    "inps1, targs1 = load_all_boys(test1)"
   ]
  },
  {
   "cell_type": "code",
   "execution_count": null,
   "metadata": {},
   "outputs": [],
   "source": [
    "inps1, targs1 = encode_into_csv(inps1, targs1, test1)"
   ]
  },
  {
   "cell_type": "markdown",
   "metadata": {},
   "source": [
    "Encode and then load test dataset 2."
   ]
  },
  {
   "cell_type": "code",
   "execution_count": null,
   "metadata": {},
   "outputs": [],
   "source": [
    "inps2, targs2 = load_all_boys(test2)"
   ]
  },
  {
   "cell_type": "code",
   "execution_count": null,
   "metadata": {},
   "outputs": [],
   "source": [
    "inps2, targs2 = encode_into_csv(inps2, targs2, test2)"
   ]
  },
  {
   "cell_type": "markdown",
   "metadata": {},
   "source": [
    "Encode and then load test dataset 3."
   ]
  },
  {
   "cell_type": "code",
   "execution_count": 5,
   "metadata": {
    "scrolled": true
   },
   "outputs": [
    {
     "name": "stdout",
     "output_type": "stream",
     "text": [
      "<re.Match object; span=(4, 9), match='15001'>\n",
      "15001\n",
      "<re.Match object; span=(4, 9), match='15002'>\n",
      "15002\n",
      "<re.Match object; span=(4, 9), match='15003'>\n",
      "15003\n",
      "<re.Match object; span=(4, 9), match='15004'>\n",
      "15004\n",
      "<re.Match object; span=(4, 9), match='15005'>\n",
      "15005\n",
      "<re.Match object; span=(4, 9), match='15006'>\n",
      "15006\n",
      "<re.Match object; span=(4, 9), match='15007'>\n",
      "15007\n",
      "<re.Match object; span=(4, 9), match='15008'>\n",
      "15008\n",
      "<re.Match object; span=(4, 9), match='15009'>\n",
      "15009\n",
      "<re.Match object; span=(4, 9), match='15010'>\n",
      "15010\n"
     ]
    }
   ],
   "source": [
    "inps3, targs3 = load_all_boys(test3, time=241)"
   ]
  },
  {
   "cell_type": "code",
   "execution_count": 6,
   "metadata": {},
   "outputs": [],
   "source": [
    "inps3, targs3 = encode_into_csv(inps3, targs3, test3)"
   ]
  }
 ],
 "metadata": {
  "deepnote": {},
  "deepnote_execution_queue": [],
  "deepnote_notebook_id": "4b953ff8b2a04095993ca3c1d8d4427b",
  "deepnote_persisted_session": {
   "createdAt": "2023-12-22T15:19:57.116Z"
  },
  "kernelspec": {
   "display_name": "Python 3 (ipykernel)",
   "language": "python",
   "name": "python3"
  },
  "language_info": {
   "codemirror_mode": {
    "name": "ipython",
    "version": 3
   },
   "file_extension": ".py",
   "mimetype": "text/x-python",
   "name": "python",
   "nbconvert_exporter": "python",
   "pygments_lexer": "ipython3",
   "version": "3.11.5"
  }
 },
 "nbformat": 4,
 "nbformat_minor": 4
}
