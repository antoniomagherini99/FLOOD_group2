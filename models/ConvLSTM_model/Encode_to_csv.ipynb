{
 "cells": [
  {
   "cell_type": "markdown",
   "metadata": {
    "cell_id": "6745e274f5da440d8f75866d3a55b9d6",
    "deepnote_cell_type": "markdown"
   },
   "source": [
    "# Encode all files into csv to reduce loading time"
   ]
  },
  {
   "cell_type": "markdown",
   "metadata": {},
   "source": [
    "Unless something is changed in load_datasets or the encode_into_csv, this notebook does not have to be re run."
   ]
  },
  {
   "cell_type": "markdown",
   "metadata": {
    "cell_id": "6e15ddc3ae0f40bda0d72baaa696cba1",
    "deepnote_cell_type": "markdown"
   },
   "source": [
    "Import libraries and modules."
   ]
  },
  {
   "cell_type": "code",
   "execution_count": 1,
   "metadata": {
    "cell_id": "317a1931967a493a820fae093f628cfa",
    "deepnote_cell_type": "code",
    "deepnote_to_be_reexecuted": false,
    "execution_millis": 777,
    "execution_start": 1703258901929,
    "source_hash": "26b410bf"
   },
   "outputs": [],
   "source": [
    "import torch\n",
    "\n",
    "import numpy as np\n",
    "import pandas as pd\n",
    "\n",
    "from load_datasets import *\n",
    "from encode_decode_csv import encode_into_csv"
   ]
  },
  {
   "cell_type": "markdown",
   "metadata": {
    "cell_id": "3b8c87dfefcc4dcb9099e17e1193a568",
    "deepnote_cell_type": "markdown"
   },
   "source": [
    "Check if GPU is available."
   ]
  },
  {
   "cell_type": "code",
   "execution_count": 2,
   "metadata": {
    "cell_id": "388661982cff45b2bff8175da7fa4243",
    "deepnote_cell_type": "code",
    "deepnote_to_be_reexecuted": false,
    "execution_millis": 8,
    "execution_start": 1703258909998,
    "source_hash": "407af93f"
   },
   "outputs": [
    {
     "name": "stdout",
     "output_type": "stream",
     "text": [
      "Using device: cuda\n"
     ]
    }
   ],
   "source": [
    "device = torch.device('cuda' if torch.cuda.is_available() else 'cpu')\n",
    "print(f'Using device: {device}')"
   ]
  },
  {
   "cell_type": "markdown",
   "metadata": {
    "cell_id": "4c107907144b43e5863002290b74aa57",
    "deepnote_cell_type": "markdown"
   },
   "source": [
    "The following lines create variables to more easily specify what we use the model for (i.e., train and validate, test with dataset 1 and so on) in the following functions."
   ]
  },
  {
   "cell_type": "code",
   "execution_count": 3,
   "metadata": {
    "cell_id": "6b7157af37c844b28bc5bf399b6be62b",
    "deepnote_cell_type": "code",
    "deepnote_to_be_reexecuted": false,
    "execution_millis": 8,
    "execution_start": 1703258911722,
    "source_hash": "2f7e85f"
   },
   "outputs": [],
   "source": [
    "train_val = 'train_val'\n",
    "test1 = 'test1'\n",
    "test2 = 'test2'\n",
    "test3 = 'test3'"
   ]
  },
  {
   "cell_type": "markdown",
   "metadata": {
    "cell_id": "5b334a37768c48e1b5fa83c00a44e9f9",
    "deepnote_cell_type": "markdown"
   },
   "source": [
    "Load files."
   ]
  },
  {
   "cell_type": "code",
   "execution_count": 4,
   "metadata": {
    "cell_id": "e0c9b1b5f426489bb5e1009b5d3b2345",
    "deepnote_cell_type": "code",
    "deepnote_to_be_reexecuted": false,
    "execution_millis": 86552,
    "execution_start": 1703262231238,
    "scrolled": true,
    "source_hash": "4ff12bd1"
   },
   "outputs": [
    {
     "name": "stdout",
     "output_type": "stream",
     "text": [
      "<re.Match object; span=(4, 5), match='1'>\n",
      "1\n",
      "<re.Match object; span=(4, 6), match='10'>\n",
      "10\n",
      "<re.Match object; span=(4, 6), match='11'>\n",
      "11\n",
      "<re.Match object; span=(4, 6), match='12'>\n",
      "12\n",
      "<re.Match object; span=(4, 6), match='13'>\n",
      "13\n",
      "<re.Match object; span=(4, 6), match='14'>\n",
      "14\n",
      "<re.Match object; span=(4, 6), match='15'>\n",
      "15\n",
      "<re.Match object; span=(4, 6), match='16'>\n",
      "16\n",
      "<re.Match object; span=(4, 6), match='17'>\n",
      "17\n",
      "<re.Match object; span=(4, 6), match='18'>\n",
      "18\n",
      "<re.Match object; span=(4, 6), match='19'>\n",
      "19\n",
      "<re.Match object; span=(4, 5), match='2'>\n",
      "2\n",
      "<re.Match object; span=(4, 6), match='20'>\n",
      "20\n",
      "<re.Match object; span=(4, 6), match='21'>\n",
      "21\n",
      "<re.Match object; span=(4, 6), match='22'>\n",
      "22\n",
      "<re.Match object; span=(4, 6), match='23'>\n",
      "23\n",
      "<re.Match object; span=(4, 6), match='24'>\n",
      "24\n",
      "<re.Match object; span=(4, 6), match='25'>\n",
      "25\n",
      "<re.Match object; span=(4, 6), match='26'>\n",
      "26\n",
      "<re.Match object; span=(4, 6), match='27'>\n",
      "27\n",
      "<re.Match object; span=(4, 6), match='28'>\n",
      "28\n",
      "<re.Match object; span=(4, 6), match='29'>\n",
      "29\n",
      "<re.Match object; span=(4, 5), match='3'>\n",
      "3\n",
      "<re.Match object; span=(4, 6), match='30'>\n",
      "30\n",
      "<re.Match object; span=(4, 6), match='31'>\n",
      "31\n",
      "<re.Match object; span=(4, 6), match='32'>\n",
      "32\n",
      "<re.Match object; span=(4, 6), match='33'>\n",
      "33\n",
      "<re.Match object; span=(4, 6), match='34'>\n",
      "34\n",
      "<re.Match object; span=(4, 6), match='35'>\n",
      "35\n",
      "<re.Match object; span=(4, 6), match='36'>\n",
      "36\n",
      "<re.Match object; span=(4, 6), match='37'>\n",
      "37\n",
      "<re.Match object; span=(4, 6), match='38'>\n",
      "38\n",
      "<re.Match object; span=(4, 6), match='39'>\n",
      "39\n",
      "<re.Match object; span=(4, 5), match='4'>\n",
      "4\n",
      "<re.Match object; span=(4, 6), match='40'>\n",
      "40\n",
      "<re.Match object; span=(4, 6), match='41'>\n",
      "41\n",
      "<re.Match object; span=(4, 6), match='42'>\n",
      "42\n",
      "<re.Match object; span=(4, 6), match='43'>\n",
      "43\n",
      "<re.Match object; span=(4, 6), match='44'>\n",
      "44\n",
      "<re.Match object; span=(4, 6), match='45'>\n",
      "45\n",
      "<re.Match object; span=(4, 6), match='46'>\n",
      "46\n",
      "<re.Match object; span=(4, 6), match='47'>\n",
      "47\n",
      "<re.Match object; span=(4, 6), match='48'>\n",
      "48\n",
      "<re.Match object; span=(4, 6), match='49'>\n",
      "49\n",
      "<re.Match object; span=(4, 5), match='5'>\n",
      "5\n",
      "<re.Match object; span=(4, 6), match='50'>\n",
      "50\n",
      "<re.Match object; span=(4, 6), match='51'>\n",
      "51\n",
      "<re.Match object; span=(4, 6), match='52'>\n",
      "52\n",
      "<re.Match object; span=(4, 6), match='53'>\n",
      "53\n",
      "<re.Match object; span=(4, 6), match='54'>\n",
      "54\n",
      "<re.Match object; span=(4, 6), match='55'>\n",
      "55\n",
      "<re.Match object; span=(4, 6), match='56'>\n",
      "56\n",
      "<re.Match object; span=(4, 6), match='57'>\n",
      "57\n",
      "<re.Match object; span=(4, 6), match='58'>\n",
      "58\n",
      "<re.Match object; span=(4, 6), match='59'>\n",
      "59\n",
      "<re.Match object; span=(4, 5), match='6'>\n",
      "6\n",
      "<re.Match object; span=(4, 6), match='60'>\n",
      "60\n",
      "<re.Match object; span=(4, 6), match='61'>\n",
      "61\n",
      "<re.Match object; span=(4, 6), match='62'>\n",
      "62\n",
      "<re.Match object; span=(4, 6), match='63'>\n",
      "63\n",
      "<re.Match object; span=(4, 6), match='64'>\n",
      "64\n",
      "<re.Match object; span=(4, 6), match='65'>\n",
      "65\n",
      "<re.Match object; span=(4, 6), match='66'>\n",
      "66\n",
      "<re.Match object; span=(4, 6), match='67'>\n",
      "67\n",
      "<re.Match object; span=(4, 6), match='68'>\n",
      "68\n",
      "<re.Match object; span=(4, 6), match='69'>\n",
      "69\n",
      "<re.Match object; span=(4, 5), match='7'>\n",
      "7\n",
      "<re.Match object; span=(4, 6), match='70'>\n",
      "70\n",
      "<re.Match object; span=(4, 6), match='71'>\n",
      "71\n",
      "<re.Match object; span=(4, 6), match='72'>\n",
      "72\n",
      "<re.Match object; span=(4, 6), match='73'>\n",
      "73\n",
      "<re.Match object; span=(4, 6), match='74'>\n",
      "74\n",
      "<re.Match object; span=(4, 6), match='75'>\n",
      "75\n",
      "<re.Match object; span=(4, 6), match='76'>\n",
      "76\n",
      "<re.Match object; span=(4, 6), match='77'>\n",
      "77\n",
      "<re.Match object; span=(4, 6), match='78'>\n",
      "78\n",
      "<re.Match object; span=(4, 6), match='79'>\n",
      "79\n",
      "<re.Match object; span=(4, 5), match='8'>\n",
      "8\n",
      "<re.Match object; span=(4, 6), match='80'>\n",
      "80\n",
      "<re.Match object; span=(4, 5), match='9'>\n",
      "9\n"
     ]
    }
   ],
   "source": [
    "inputs, targets = load_all_boys('train_val')"
   ]
  },
  {
   "cell_type": "code",
   "execution_count": 5,
   "metadata": {},
   "outputs": [],
   "source": [
    "inps, targs = encode_into_csv(inputs, targets, train_val)"
   ]
  },
  {
   "cell_type": "markdown",
   "metadata": {},
   "source": [
    "Test dataset 1."
   ]
  },
  {
   "cell_type": "code",
   "execution_count": 6,
   "metadata": {
    "scrolled": false
   },
   "outputs": [
    {
     "name": "stdout",
     "output_type": "stream",
     "text": [
      "<re.Match object; span=(4, 7), match='500'>\n",
      "500\n",
      "<re.Match object; span=(4, 7), match='501'>\n",
      "501\n",
      "<re.Match object; span=(4, 7), match='502'>\n",
      "502\n",
      "<re.Match object; span=(4, 7), match='503'>\n",
      "503\n",
      "<re.Match object; span=(4, 7), match='504'>\n",
      "504\n",
      "<re.Match object; span=(4, 7), match='505'>\n",
      "505\n",
      "<re.Match object; span=(4, 7), match='506'>\n",
      "506\n",
      "<re.Match object; span=(4, 7), match='507'>\n",
      "507\n",
      "<re.Match object; span=(4, 7), match='508'>\n",
      "508\n",
      "<re.Match object; span=(4, 7), match='509'>\n",
      "509\n",
      "<re.Match object; span=(4, 7), match='510'>\n",
      "510\n",
      "<re.Match object; span=(4, 7), match='511'>\n",
      "511\n",
      "<re.Match object; span=(4, 7), match='512'>\n",
      "512\n",
      "<re.Match object; span=(4, 7), match='513'>\n",
      "513\n",
      "<re.Match object; span=(4, 7), match='514'>\n",
      "514\n",
      "<re.Match object; span=(4, 7), match='515'>\n",
      "515\n",
      "<re.Match object; span=(4, 7), match='516'>\n",
      "516\n",
      "<re.Match object; span=(4, 7), match='517'>\n",
      "517\n",
      "<re.Match object; span=(4, 7), match='518'>\n",
      "518\n",
      "<re.Match object; span=(4, 7), match='519'>\n",
      "519\n"
     ]
    }
   ],
   "source": [
    "inps1, targs1 = load_all_boys(test1)"
   ]
  },
  {
   "cell_type": "code",
   "execution_count": 7,
   "metadata": {},
   "outputs": [],
   "source": [
    "inps1, targs1 = encode_into_csv(inps1, targs1, test1)"
   ]
  },
  {
   "cell_type": "markdown",
   "metadata": {},
   "source": [
    "Test dataset 2."
   ]
  },
  {
   "cell_type": "code",
   "execution_count": 8,
   "metadata": {},
   "outputs": [
    {
     "name": "stdout",
     "output_type": "stream",
     "text": [
      "<re.Match object; span=(4, 9), match='10000'>\n",
      "10000\n",
      "<re.Match object; span=(4, 9), match='10001'>\n",
      "10001\n",
      "<re.Match object; span=(4, 9), match='10002'>\n",
      "10002\n",
      "<re.Match object; span=(4, 9), match='10003'>\n",
      "10003\n",
      "<re.Match object; span=(4, 9), match='10004'>\n",
      "10004\n",
      "<re.Match object; span=(4, 9), match='10005'>\n",
      "10005\n",
      "<re.Match object; span=(4, 9), match='10006'>\n",
      "10006\n",
      "<re.Match object; span=(4, 9), match='10007'>\n",
      "10007\n",
      "<re.Match object; span=(4, 9), match='10008'>\n",
      "10008\n",
      "<re.Match object; span=(4, 9), match='10009'>\n",
      "10009\n",
      "<re.Match object; span=(4, 9), match='10010'>\n",
      "10010\n",
      "<re.Match object; span=(4, 9), match='10011'>\n",
      "10011\n",
      "<re.Match object; span=(4, 9), match='10012'>\n",
      "10012\n",
      "<re.Match object; span=(4, 9), match='10013'>\n",
      "10013\n",
      "<re.Match object; span=(4, 9), match='10014'>\n",
      "10014\n",
      "<re.Match object; span=(4, 9), match='10015'>\n",
      "10015\n",
      "<re.Match object; span=(4, 9), match='10016'>\n",
      "10016\n",
      "<re.Match object; span=(4, 9), match='10017'>\n",
      "10017\n",
      "<re.Match object; span=(4, 9), match='10018'>\n",
      "10018\n",
      "<re.Match object; span=(4, 9), match='10019'>\n",
      "10019\n",
      "<re.Match object; span=(4, 9), match='10020'>\n",
      "10020\n"
     ]
    }
   ],
   "source": [
    "inps2, targs2 = load_all_boys(test2)"
   ]
  },
  {
   "cell_type": "code",
   "execution_count": 9,
   "metadata": {},
   "outputs": [],
   "source": [
    "inps2, targs2 = encode_into_csv(inps2, targs2, test2)"
   ]
  },
  {
   "cell_type": "markdown",
   "metadata": {},
   "source": [
    "Test dataset 3."
   ]
  },
  {
   "cell_type": "code",
   "execution_count": 10,
   "metadata": {
    "scrolled": true
   },
   "outputs": [
    {
     "name": "stdout",
     "output_type": "stream",
     "text": [
      "<re.Match object; span=(4, 9), match='15001'>\n",
      "15001\n",
      "<re.Match object; span=(4, 9), match='15002'>\n",
      "15002\n",
      "<re.Match object; span=(4, 9), match='15003'>\n",
      "15003\n",
      "<re.Match object; span=(4, 9), match='15004'>\n",
      "15004\n",
      "<re.Match object; span=(4, 9), match='15005'>\n",
      "15005\n",
      "<re.Match object; span=(4, 9), match='15006'>\n",
      "15006\n",
      "<re.Match object; span=(4, 9), match='15007'>\n",
      "15007\n",
      "<re.Match object; span=(4, 9), match='15008'>\n",
      "15008\n",
      "<re.Match object; span=(4, 9), match='15009'>\n",
      "15009\n",
      "<re.Match object; span=(4, 9), match='15010'>\n",
      "15010\n"
     ]
    }
   ],
   "source": [
    "inps3, targs3 = load_all_boys(test3)"
   ]
  },
  {
   "cell_type": "code",
   "execution_count": 11,
   "metadata": {},
   "outputs": [],
   "source": [
    "inps3, targs3 = encode_into_csv(inps3, targs3, test3)"
   ]
  }
 ],
 "metadata": {
  "deepnote": {},
  "deepnote_execution_queue": [],
  "deepnote_notebook_id": "4b953ff8b2a04095993ca3c1d8d4427b",
  "deepnote_persisted_session": {
   "createdAt": "2023-12-22T15:19:57.116Z"
  },
  "kernelspec": {
   "display_name": "Python 3 (ipykernel)",
   "language": "python",
   "name": "python3"
  },
  "language_info": {
   "codemirror_mode": {
    "name": "ipython",
    "version": 3
   },
   "file_extension": ".py",
   "mimetype": "text/x-python",
   "name": "python",
   "nbconvert_exporter": "python",
   "pygments_lexer": "ipython3",
   "version": "3.9.17"
  }
 },
 "nbformat": 4,
 "nbformat_minor": 1
}
