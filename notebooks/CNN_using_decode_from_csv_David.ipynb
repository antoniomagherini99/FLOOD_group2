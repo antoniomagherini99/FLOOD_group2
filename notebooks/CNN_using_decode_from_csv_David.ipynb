{
 "cells": [
  {
   "cell_type": "markdown",
   "id": "66242d2f",
   "metadata": {},
   "source": [
    "# CNN model notebook"
   ]
  },
  {
   "cell_type": "markdown",
   "id": "58db14a1",
   "metadata": {},
   "source": [
    "Import libraries and modules"
   ]
  },
  {
   "cell_type": "code",
   "execution_count": 1,
   "id": "df5de71e",
   "metadata": {},
   "outputs": [
    {
     "name": "stdout",
     "output_type": "stream",
     "text": [
      "/workspace/FLOOD_group2\n"
     ]
    }
   ],
   "source": [
    "# move to the root directory of the git\n",
    "%cd .."
   ]
  },
  {
   "cell_type": "code",
   "execution_count": 30,
   "id": "df834647",
   "metadata": {},
   "outputs": [],
   "source": [
    "from PIL import Image\n",
    "import numpy as np\n",
    "import torch\n",
    "import matplotlib.pyplot as plt\n",
    "import os\n",
    "import io\n",
    "import imageio\n",
    "from sklearn.preprocessing import MinMaxScaler\n",
    "from torch.utils.data.dataset import random_split\n",
    "import torch.nn as nn\n",
    "from torchsummary import summary\n",
    "from torchviz import make_dot\n",
    "import torch.nn.functional as F\n",
    "from torch.utils.data import DataLoader\n",
    "from torch.utils.data import TensorDataset\n",
    "from matplotlib.colors import TwoSlopeNorm\n",
    "import random\n",
    "from IPython.display import Image, display\n",
    "import time\n",
    "\n",
    "\n",
    "from pre_processing.encode_decode_csv import decode_from_csv\n",
    "from pre_processing.process_data import *\n",
    "from models.CNN_model.CNN_functions import *\n",
    "from models.CNN_model.CNN_classes import *\n",
    "from pre_processing.augmentation import *\n",
    "from pre_processing.normalization import * "
   ]
  },
  {
   "cell_type": "code",
   "execution_count": 3,
   "id": "f30bcd99-9c3d-4675-bd96-7d39ec739541",
   "metadata": {},
   "outputs": [
    {
     "data": {
      "text/plain": [
       "device(type='cuda')"
      ]
     },
     "execution_count": 3,
     "metadata": {},
     "output_type": "execute_result"
    }
   ],
   "source": [
    "device = torch.device('cuda' if torch.cuda.is_available() else 'cpu')\n",
    "device"
   ]
  },
  {
   "cell_type": "markdown",
   "id": "9f3ccc13",
   "metadata": {},
   "source": [
    "# Creating Training Dataset"
   ]
  },
  {
   "cell_type": "markdown",
   "id": "14cc77c2",
   "metadata": {},
   "source": [
    "First the training dataset is created based upon a research paper by Bentivoglio et al (2023). For training and validation purposes a dataset of 80 different generated digital elevation models are used to reflect different plausible topographies. The velocity in both x and y direction (VX and VY) as well as the water depth (WD) are known, based on numerical computations utilizing Delft3D.\n",
    "\n",
    "The code cell below uses two custom functions for the elevation data processing and water depth processing. \n",
    "\n",
    "<b>Elevation Data Processing</b>\n",
    "\n",
    "The process_elevation_data function takes a DEM (Digital Elevation Model) file identifier (file_id) and a dataset identifier (dataset_id) as inputs. It reads the corresponding DEM file, extracts elevation data, and calculates the slope in the x and y directions. The result is a torch tensor combining the original elevation data with its slope information.\n",
    "\n",
    "<b>Water Depth Processing</b>\n",
    "\n",
    "The process_water_depth function processes water depth data from a specific time step in a file. It requires a water depth file identifier (file_id), a dataset identifier (dataset_id), and an optional time step parameter (time_step, default is 0). The function reads the specified file, extracts the data for the given time step, and returns a 64x64 torch tensor representing water depth."
   ]
  },
  {
   "cell_type": "code",
   "execution_count": 4,
   "id": "fa540ddf",
   "metadata": {},
   "outputs": [
    {
     "name": "stdout",
     "output_type": "stream",
     "text": [
      "Restored inputs Shape: torch.Size([80, 1, 4, 64, 64])\n",
      "Restored targets Shape: torch.Size([80, 48, 2, 64, 64])\n"
     ]
    }
   ],
   "source": [
    "def remove_discharge(train_val_test):\n",
    "    '''\n",
    "    Print is located within decode_csv\n",
    "    '''\n",
    "    dataset = decode_from_csv(train_val_test)\n",
    "    inputs = dataset[:][0]\n",
    "    targets = dataset[:][1]\n",
    "    targets = targets[:,:, 0].unsqueeze (2) # remove discharge\n",
    "    new_dataset = TensorDataset(inputs.float(), targets.float())\n",
    "    return new_dataset\n",
    "train_dataset = remove_discharge('train_val')"
   ]
  },
  {
   "cell_type": "markdown",
   "id": "ba9b9533",
   "metadata": {},
   "source": [
    "# Creating the Test Dataset"
   ]
  },
  {
   "cell_type": "markdown",
   "id": "d95ef268",
   "metadata": {},
   "source": [
    "Now the test dataset is created based on dataset1 from Bentivoglio et al (2023). This dataset features 20 DEMs over a squared domain of 64x64 grids of length 100 m and a simulation time of 48 h. A fixed breach location is used."
   ]
  },
  {
   "cell_type": "code",
   "execution_count": 5,
   "id": "bc4f40b4",
   "metadata": {},
   "outputs": [
    {
     "name": "stdout",
     "output_type": "stream",
     "text": [
      "Restored inputs Shape: torch.Size([20, 1, 4, 64, 64])\n",
      "Restored targets Shape: torch.Size([20, 48, 2, 64, 64])\n",
      "Restored inputs Shape: torch.Size([21, 1, 4, 64, 64])\n",
      "Restored targets Shape: torch.Size([21, 48, 2, 64, 64])\n"
     ]
    }
   ],
   "source": [
    "test_dataset1 = remove_discharge('test1')\n",
    "test_dataset2 = remove_discharge('test2')"
   ]
  },
  {
   "cell_type": "markdown",
   "id": "303e01e5",
   "metadata": {},
   "source": [
    "# Aplying Data augmentation"
   ]
  },
  {
   "cell_type": "markdown",
   "id": "71db2b27",
   "metadata": {},
   "source": [
    "Below data augmentation is applied to increase the size of a training dataset. The implemented data augmentation methods include rotation and horizontal flipping."
   ]
  },
  {
   "cell_type": "code",
   "execution_count": 6,
   "id": "671b90d7",
   "metadata": {},
   "outputs": [
    {
     "name": "stdout",
     "output_type": "stream",
     "text": [
      "The samples in the dataset before augmentation were 80\n",
      "The samples in the dataset after augmentation are 560\n"
     ]
    }
   ],
   "source": [
    "transformed_dataset = augmentation(train_dataset)"
   ]
  },
  {
   "cell_type": "markdown",
   "id": "4d5aeda4",
   "metadata": {},
   "source": [
    "# Splitting the Datasets"
   ]
  },
  {
   "cell_type": "markdown",
   "id": "98e67e18",
   "metadata": {},
   "source": [
    "Below, the training dataset is split into training and validation sets. A standard 80/20 split is employed. "
   ]
  },
  {
   "cell_type": "code",
   "execution_count": 7,
   "id": "c92e63e7",
   "metadata": {},
   "outputs": [],
   "source": [
    "# Split dataset into train and validation\n",
    "random_gen = torch.Generator().manual_seed(42) # find a random seed and fix it to always have the same split\n",
    "\n",
    "train_percent = 0.8\n",
    "train_size = int(train_percent * len(transformed_dataset))\n",
    "val_size = len(transformed_dataset) - train_size\n",
    "train_dataset, val_dataset = random_split(transformed_dataset, [train_size, val_size], random_gen)"
   ]
  },
  {
   "cell_type": "markdown",
   "id": "3a74b618",
   "metadata": {},
   "source": [
    "# Data Normalization"
   ]
  },
  {
   "cell_type": "markdown",
   "id": "33a1f286",
   "metadata": {},
   "source": [
    "Next, data normalization is implemented."
   ]
  },
  {
   "cell_type": "code",
   "execution_count": 8,
   "id": "32388766",
   "metadata": {},
   "outputs": [],
   "source": [
    "# # Normalize the inputs and outputs using training dataset\n",
    "# scaler_x, scaler_y = scaler(train_dataset)\n",
    "\n",
    "# normalized_train_dataset = normalize_dataset(train_dataset, scaler_x, scaler_y, 'train_val')\n",
    "# normalized_val_dataset = normalize_dataset(val_dataset, scaler_x, scaler_y, 'train_val')\n",
    "# norm_test_dataset = normalize_dataset(test_dataset, scaler_x, scaler_y, 'test1')"
   ]
  },
  {
   "cell_type": "markdown",
   "id": "64bc5614",
   "metadata": {},
   "source": [
    "# Model summary and visualization"
   ]
  },
  {
   "cell_type": "markdown",
   "id": "f91cc2a7",
   "metadata": {},
   "source": [
    "Now the CNN model is instantiated and a summary of the model is printed. Please refer to the '‘CNN_classes.py’' file within the CNN_model directory for further details on the defining of the CNN architecture. The model resembles a U-Net, consisting of an encoder and a corresponding decoder, connected by a bottleneck layer. In total, the model has 124,128,688 parameters, all of which are trainable.\n",
    "The key components of the model architecture are:\n",
    "\n",
    "\n",
    "<b>Encoder</b>\n",
    "\n",
    "The encoder consists of multiple layers of convolution and pooling operations, gradually reducing spatial dimensions while increasing feature channels:\n",
    "\n",
    "•\tThe model starts with a convolutional layer (Conv2d-1) followed by batch normalization (BatchNorm2d-2) and Rectified Linear Unit (ReLU-3).\n",
    "\n",
    "•\tThis is followed by another set of convolution, batch normalization, and ReLU (DoubleConv-7).\n",
    "\n",
    "•\tMax pooling (MaxPool2d-8) is applied to reduce spatial dimensions.\n",
    "\n",
    "•\tThe model then repeats the encoder structure, gradually increasing the number of channels in each block (Down-16, Down-25, Down-35).\n",
    "\n",
    "\n",
    "<b>Decoder</b>\n",
    "\n",
    "The decoder, comprised of up-sampling and convolutional layers, reconstructs the high-resolution segmentation map from the learned features:\n",
    "\n",
    "•\tThe decoder begins with upsampling using transposed convolution (ConvTranspose2d-44) followed by a series of convolution, batch normalization, and ReLU operations (DoubleConv-51).\n",
    "\n",
    "•\tThis process is repeated for each level of the decoder (Up-52, Up-61, Up-70, Up-79).\n",
    "\n",
    "\n",
    "<b>Skip connections</b>\n",
    "\n",
    "Skip connections are established between corresponding encoder and decoder layers, which enhance information flow between different resolutions; facilitating the preservation of fine details and improving the training stability."
   ]
  },
  {
   "cell_type": "code",
   "execution_count": 9,
   "id": "380a179f",
   "metadata": {},
   "outputs": [
    {
     "name": "stdout",
     "output_type": "stream",
     "text": [
      "----------------------------------------------------------------\n",
      "        Layer (type)               Output Shape         Param #\n",
      "================================================================\n",
      "            Conv2d-1          [-1, 128, 64, 64]           4,608\n",
      "       BatchNorm2d-2          [-1, 128, 64, 64]             256\n",
      "              ReLU-3          [-1, 128, 64, 64]               0\n",
      "            Conv2d-4          [-1, 128, 64, 64]         147,456\n",
      "       BatchNorm2d-5          [-1, 128, 64, 64]             256\n",
      "              ReLU-6          [-1, 128, 64, 64]               0\n",
      "        DoubleConv-7          [-1, 128, 64, 64]               0\n",
      "         MaxPool2d-8          [-1, 128, 32, 32]               0\n",
      "            Conv2d-9          [-1, 256, 32, 32]         294,912\n",
      "      BatchNorm2d-10          [-1, 256, 32, 32]             512\n",
      "             ReLU-11          [-1, 256, 32, 32]               0\n",
      "           Conv2d-12          [-1, 256, 32, 32]         589,824\n",
      "      BatchNorm2d-13          [-1, 256, 32, 32]             512\n",
      "             ReLU-14          [-1, 256, 32, 32]               0\n",
      "       DoubleConv-15          [-1, 256, 32, 32]               0\n",
      "             Down-16          [-1, 256, 32, 32]               0\n",
      "        MaxPool2d-17          [-1, 256, 16, 16]               0\n",
      "           Conv2d-18          [-1, 512, 16, 16]       1,179,648\n",
      "      BatchNorm2d-19          [-1, 512, 16, 16]           1,024\n",
      "             ReLU-20          [-1, 512, 16, 16]               0\n",
      "           Conv2d-21          [-1, 512, 16, 16]       2,359,296\n",
      "      BatchNorm2d-22          [-1, 512, 16, 16]           1,024\n",
      "             ReLU-23          [-1, 512, 16, 16]               0\n",
      "       DoubleConv-24          [-1, 512, 16, 16]               0\n",
      "             Down-25          [-1, 512, 16, 16]               0\n",
      "        MaxPool2d-26            [-1, 512, 8, 8]               0\n",
      "           Conv2d-27           [-1, 1024, 8, 8]       4,718,592\n",
      "      BatchNorm2d-28           [-1, 1024, 8, 8]           2,048\n",
      "             ReLU-29           [-1, 1024, 8, 8]               0\n",
      "           Conv2d-30           [-1, 1024, 8, 8]       9,437,184\n",
      "      BatchNorm2d-31           [-1, 1024, 8, 8]           2,048\n",
      "             ReLU-32           [-1, 1024, 8, 8]               0\n",
      "       DoubleConv-33           [-1, 1024, 8, 8]               0\n",
      "             Down-34           [-1, 1024, 8, 8]               0\n",
      "        MaxPool2d-35           [-1, 1024, 4, 4]               0\n",
      "           Conv2d-36           [-1, 2048, 4, 4]      18,874,368\n",
      "      BatchNorm2d-37           [-1, 2048, 4, 4]           4,096\n",
      "             ReLU-38           [-1, 2048, 4, 4]               0\n",
      "           Conv2d-39           [-1, 2048, 4, 4]      37,748,736\n",
      "      BatchNorm2d-40           [-1, 2048, 4, 4]           4,096\n",
      "             ReLU-41           [-1, 2048, 4, 4]               0\n",
      "       DoubleConv-42           [-1, 2048, 4, 4]               0\n",
      "             Down-43           [-1, 2048, 4, 4]               0\n",
      "  ConvTranspose2d-44           [-1, 1024, 8, 8]       8,389,632\n",
      "           Conv2d-45           [-1, 1024, 8, 8]      18,874,368\n",
      "      BatchNorm2d-46           [-1, 1024, 8, 8]           2,048\n",
      "             ReLU-47           [-1, 1024, 8, 8]               0\n",
      "           Conv2d-48           [-1, 1024, 8, 8]       9,437,184\n",
      "      BatchNorm2d-49           [-1, 1024, 8, 8]           2,048\n",
      "             ReLU-50           [-1, 1024, 8, 8]               0\n",
      "       DoubleConv-51           [-1, 1024, 8, 8]               0\n",
      "               Up-52           [-1, 1024, 8, 8]               0\n",
      "  ConvTranspose2d-53          [-1, 512, 16, 16]       2,097,664\n",
      "           Conv2d-54          [-1, 512, 16, 16]       4,718,592\n",
      "      BatchNorm2d-55          [-1, 512, 16, 16]           1,024\n",
      "             ReLU-56          [-1, 512, 16, 16]               0\n",
      "           Conv2d-57          [-1, 512, 16, 16]       2,359,296\n",
      "      BatchNorm2d-58          [-1, 512, 16, 16]           1,024\n",
      "             ReLU-59          [-1, 512, 16, 16]               0\n",
      "       DoubleConv-60          [-1, 512, 16, 16]               0\n",
      "               Up-61          [-1, 512, 16, 16]               0\n",
      "  ConvTranspose2d-62          [-1, 256, 32, 32]         524,544\n",
      "           Conv2d-63          [-1, 256, 32, 32]       1,179,648\n",
      "      BatchNorm2d-64          [-1, 256, 32, 32]             512\n",
      "             ReLU-65          [-1, 256, 32, 32]               0\n",
      "           Conv2d-66          [-1, 256, 32, 32]         589,824\n",
      "      BatchNorm2d-67          [-1, 256, 32, 32]             512\n",
      "             ReLU-68          [-1, 256, 32, 32]               0\n",
      "       DoubleConv-69          [-1, 256, 32, 32]               0\n",
      "               Up-70          [-1, 256, 32, 32]               0\n",
      "  ConvTranspose2d-71          [-1, 128, 64, 64]         131,200\n",
      "           Conv2d-72          [-1, 128, 64, 64]         294,912\n",
      "      BatchNorm2d-73          [-1, 128, 64, 64]             256\n",
      "             ReLU-74          [-1, 128, 64, 64]               0\n",
      "           Conv2d-75          [-1, 128, 64, 64]         147,456\n",
      "      BatchNorm2d-76          [-1, 128, 64, 64]             256\n",
      "             ReLU-77          [-1, 128, 64, 64]               0\n",
      "       DoubleConv-78          [-1, 128, 64, 64]               0\n",
      "               Up-79          [-1, 128, 64, 64]               0\n",
      "           Conv2d-80           [-1, 48, 64, 64]           6,192\n",
      "          OutConv-81           [-1, 48, 64, 64]               0\n",
      "================================================================\n",
      "Total params: 124,128,688\n",
      "Trainable params: 124,128,688\n",
      "Non-trainable params: 0\n",
      "----------------------------------------------------------------\n",
      "Input size (MB): 0.06\n",
      "Forward/backward pass size (MB): 130.38\n",
      "Params size (MB): 473.51\n",
      "Estimated Total Size (MB): 603.95\n",
      "----------------------------------------------------------------\n"
     ]
    }
   ],
   "source": [
    "# Instantiate the CNN\n",
    "model = UNet().to(device)\n",
    "summary(model, input_size=(4, 64, 64)) "
   ]
  },
  {
   "cell_type": "markdown",
   "id": "fc38471c",
   "metadata": {},
   "source": [
    "Below, the model architecture is visualized using PyTorchViz. To turn on the visualization, make sure <code>visualize = True</code>\n",
    "\n",
    "PyTorchViz uses the following color-coding the model architecture graph:\n",
    "\n",
    "•\tBlue nodes represent tensors or variables in the computation graph. These are the data elements that flow through the operations.\n",
    "\n",
    "•\tGray nodes represent PyTorch functions or operations performed on tensors.\n",
    "\n",
    "•\tGreen nodes represent gradients or derivatives of tensors. They showcase the backpropagation flow of gradients through the computation graph."
   ]
  },
  {
   "cell_type": "code",
   "execution_count": 10,
   "id": "0d77d219",
   "metadata": {},
   "outputs": [],
   "source": [
    "visualize = False\n",
    "\n",
    "if visualize == True:\n",
    "    # Visualize the model architecture\n",
    "    dummy_input = torch.randn(1, 4, 64, 64).to(device)\n",
    "    model.eval()  # Set the model to evaluation mode\n",
    "    out = model(dummy_input)\n",
    "    graph = make_dot(out, params=dict(model.named_parameters()))\n",
    "    output_path = os.path.join('images', 'CNN_model_graph')\n",
    "    graph.render(output_path, format=\"png\", cleanup=True)\n",
    "    img_path = f\"{output_path}.png\"\n",
    "    display(Image(filename=img_path))"
   ]
  },
  {
   "cell_type": "markdown",
   "id": "d12dfb6d",
   "metadata": {},
   "source": [
    "# Model training"
   ]
  },
  {
   "cell_type": "markdown",
   "id": "8737eaea",
   "metadata": {},
   "source": [
    "<b>Training Parameters</b>\n",
    "\n",
    "First the learning rate, batch size, and the number of training epochs are specified."
   ]
  },
  {
   "cell_type": "code",
   "execution_count": 11,
   "id": "9527fb54",
   "metadata": {},
   "outputs": [],
   "source": [
    "# Set training parameters\n",
    "learning_rate = 0.001\n",
    "batch_size = 8\n",
    "num_epochs = 200"
   ]
  },
  {
   "cell_type": "markdown",
   "id": "65dd8b72",
   "metadata": {},
   "source": [
    "<b>Optimizer and Dataloaders</b>\n",
    "\n",
    "An Adam optimizer is set up to train the neural network, and dataloaders are created to efficiently handle batches of data during training and evaluation."
   ]
  },
  {
   "cell_type": "code",
   "execution_count": 12,
   "id": "f0cb13b6",
   "metadata": {},
   "outputs": [],
   "source": [
    "# Create the optimizer to train the neural network via back-propagation\n",
    "optimizer = torch.optim.Adam(params=model.parameters(), lr=learning_rate)\n",
    "\n",
    "# Create the training and validation dataloaders to \"feed\" data to the model in batches\n",
    "train_loader = DataLoader(train_dataset, batch_size=batch_size, shuffle=True)\n",
    "val_loader = DataLoader(val_dataset, batch_size=batch_size, shuffle=False)\n",
    "test_loader1 = DataLoader(test_dataset1, batch_size=batch_size, shuffle=False)\n",
    "test_loader2 = DataLoader(test_dataset2, batch_size=batch_size, shuffle=False)"
   ]
  },
  {
   "cell_type": "markdown",
   "id": "fb8de020",
   "metadata": {},
   "source": [
    "<b>Training and Evaluation Loops</b>\n",
    "\n",
    "Here, we iterate over epochs, conducting both training and validation loops. Losses are computed and stored for each epoch, with periodic printing for monitoring. Early stopping is implemented to prevent overfitting and improve the generalization performance of a model.\n",
    "\n",
    "The code cell below uses two custom functions for training and evaluating:\n",
    "\n",
    "<b>train_epoch</b>\n",
    "\n",
    "The train_epoch function is used for training the model. It takes as input the model architecture (model), a data loader (loader) supplying training batches, an optimizer (optimizer) for weight updates, and the computation device (device). During each training epoch, the function iterates through the provided data loader, performs forward and backward passes, computes Mean Squared Error (MSE) loss, and updates the model parameters using backpropagation.\n",
    "\n",
    "<b>evaluation</b>\n",
    "\n",
    "The evaluation function is used for assessing the model's performance on a validation or test dataset. Similar to train_epoch, it takes the model (model), a data loader (loader), and the computation device (device) as inputs. However, it operates in evaluation mode, meaning it disables gradient computation and only performs forward passes to compute MSE loss on the validation or test set."
   ]
  },
  {
   "cell_type": "code",
   "execution_count": 13,
   "id": "3cfe63bc",
   "metadata": {},
   "outputs": [],
   "source": [
    "def train_epoch(model, loader, optimizer, device):\n",
    "    model.to(device)\n",
    "    model.train() # specifies that the model is in training mode\n",
    "\n",
    "    losses = []\n",
    "\n",
    "    for batch in loader:\n",
    "        x = batch[0]\n",
    "        x = x[:, 0] # remove time step\n",
    "        y = batch[1]\n",
    "        y = y[:, :, 0] # remove part of the model that says singular feature\n",
    "        x, y = x.float().to(device), y.float().to(device)\n",
    "        # Model prediction\n",
    "        preds = model(x)\n",
    "\n",
    "        # MSE loss function\n",
    "        loss = nn.MSELoss()(preds, y)\n",
    "\n",
    "        losses.append(loss.cpu().detach())\n",
    "\n",
    "        # Backpropagate and update weights\n",
    "        loss.backward()   # compute the gradients using backpropagation\n",
    "        optimizer.step()  # update the weights with the optimizer\n",
    "        optimizer.zero_grad(set_to_none=True)   # reset the computed gradients\n",
    "\n",
    "    losses = np.array(losses).mean()\n",
    "\n",
    "    return losses\n",
    "\n",
    "\n",
    "def evaluation(model, loader, device):\n",
    "    model.to(device)\n",
    "    model.eval() # specifies that the model is in evaluation mode\n",
    "\n",
    "    losses = []\n",
    "\n",
    "    with torch.no_grad():\n",
    "        for batch in loader:\n",
    "            x = batch[0]\n",
    "            x = x[:, 0] # remove time step\n",
    "            y = batch[1]\n",
    "            y = y[:, :, 0] # remove part of the model that says singular feature\n",
    "            x, y = x.float().to(device), y.float().to(device)\n",
    "\n",
    "            # Model prediction\n",
    "            preds = model(x)\n",
    "\n",
    "            # MSE loss function\n",
    "            loss = nn.MSELoss()(preds, y)\n",
    "            losses.append(loss.cpu().detach())\n",
    "\n",
    "    losses = np.array(losses).mean()\n",
    "\n",
    "    return losses"
   ]
  },
  {
   "cell_type": "code",
   "execution_count": 14,
   "id": "e695b776-6b8f-46d2-92ec-925f93c90a76",
   "metadata": {},
   "outputs": [
    {
     "name": "stdout",
     "output_type": "stream",
     "text": [
      "Epoch 10 | Train Loss: 0.0357 | Validation Loss: 0.0357\n",
      "Epoch 20 | Train Loss: 0.0219 | Validation Loss: 0.0235\n",
      "Epoch 30 | Train Loss: 0.0171 | Validation Loss: 0.0231\n",
      "Epoch 40 | Train Loss: 0.0129 | Validation Loss: 0.0172\n",
      "Epoch 50 | Train Loss: 0.0089 | Validation Loss: 0.0118\n",
      "Epoch 60 | Train Loss: 0.0068 | Validation Loss: 0.0101\n",
      "Epoch 70 | Train Loss: 0.0056 | Validation Loss: 0.0102\n",
      "Epoch 80 | Train Loss: 0.0039 | Validation Loss: 0.0090\n",
      "Epoch 90 | Train Loss: 0.0034 | Validation Loss: 0.0076\n",
      "Epoch 100 | Train Loss: 0.0031 | Validation Loss: 0.0064\n",
      "Epoch 110 | Train Loss: 0.0023 | Validation Loss: 0.0060\n",
      "Epoch 120 | Train Loss: 0.0021 | Validation Loss: 0.0058\n",
      "Epoch 130 | Train Loss: 0.0017 | Validation Loss: 0.0051\n",
      "Epoch 140 | Train Loss: 0.0012 | Validation Loss: 0.0052\n",
      "Epoch 150 | Train Loss: 0.0021 | Validation Loss: 0.0065\n",
      "Epoch 160 | Train Loss: 0.0011 | Validation Loss: 0.0057\n",
      "Epoch 170 | Train Loss: 0.0009 | Validation Loss: 0.0050\n",
      "Epoch 180 | Train Loss: 0.0011 | Validation Loss: 0.0051\n",
      "Epoch 190 | Train Loss: 0.0008 | Validation Loss: 0.0051\n",
      "Early stopping at epoch 196 | Best Validation Loss: 0.0049\n",
      "Total time taken: 850.14 seconds\n"
     ]
    }
   ],
   "source": [
    "train_losses = []\n",
    "validation_losses = []\n",
    "\n",
    "best_validation_loss = float('inf')  # Initialize with a very large value\n",
    "patience = 25  # Number of epochs with no improvement after which training will be stopped\n",
    "\n",
    "start_time = time.time()  # Record the start time\n",
    "\n",
    "for epoch in range(num_epochs):\n",
    "    # Training loop\n",
    "    train_loss = train_epoch(model, train_loader, optimizer, device=device)\n",
    "    train_losses.append(train_loss)\n",
    "\n",
    "    # Validation loop\n",
    "    validation_loss = evaluation(model, val_loader, device=device)\n",
    "    validation_losses.append(validation_loss)\n",
    "\n",
    "    # Print the loss for every 10 epochs\n",
    "    if (epoch + 1) % 10 == 0:\n",
    "        print(f'Epoch {epoch+1} | Train Loss: {train_loss:.4f} | Validation Loss: {validation_loss:.4f}')\n",
    "\n",
    "    # Check for early stopping\n",
    "    if validation_loss < best_validation_loss:\n",
    "        best_validation_loss = validation_loss\n",
    "        patience_counter = 0  # Reset patience counter since there is an improvement\n",
    "    else:\n",
    "        patience_counter += 1  # No improvement, increase the patience counter\n",
    "\n",
    "    if patience_counter >= patience:\n",
    "        print(f'Early stopping at epoch {epoch+1} | Best Validation Loss: {best_validation_loss:.4f}')\n",
    "        break  # Stop training\n",
    "\n",
    "end_time = time.time()  # Record the end time\n",
    "elapsed_time = end_time - start_time\n",
    "\n",
    "print(f'Total time taken: {elapsed_time:.2f} seconds')"
   ]
  },
  {
   "cell_type": "markdown",
   "id": "87291a97",
   "metadata": {},
   "source": [
    "<b> Test Set Evaluation and Loss Plotting</b>\n",
    "\n",
    "Below, the model is evaluated on the test set and the test loss is printed. Additionally, the training and validation losses are plotted over epochs to visualize the learning progress."
   ]
  },
  {
   "cell_type": "code",
   "execution_count": 15,
   "id": "317f83ec",
   "metadata": {},
   "outputs": [
    {
     "name": "stdout",
     "output_type": "stream",
     "text": [
      "Test Loss: 0.027091624\n"
     ]
    }
   ],
   "source": [
    "test_loss = evaluation(model, test_loader1, device=device)\n",
    "print('Test Loss:', test_loss)"
   ]
  },
  {
   "cell_type": "code",
   "execution_count": 16,
   "id": "03951c71",
   "metadata": {},
   "outputs": [
    {
     "data": {
      "image/png": "[encoded data removed]",
      "text/plain": [
       "<Figure size 640x480 with 1 Axes>"
      ]
     },
     "metadata": {},
     "output_type": "display_data"
    }
   ],
   "source": [
    "plt.plot(train_losses, label='Training')\n",
    "plt.plot(validation_losses, label='Validation')\n",
    "plt.yscale('log')\n",
    "plt.title('Losses')\n",
    "plt.xlabel('Epochs')\n",
    "plt.legend()\n",
    "plt.show()"
   ]
  },
  {
   "cell_type": "markdown",
   "id": "fbf739f2",
   "metadata": {},
   "source": [
    "# Visualizing Test Sample and Predicted Water Depth"
   ]
  },
  {
   "cell_type": "markdown",
   "id": "fbeda9e5",
   "metadata": {},
   "source": [
    "<b>Selecting a Test Sample</b>\n",
    "\n",
    "Here, a specific test sample is selected (data_id = 2) from the test dataset. The input data (x) and the ground truth water depth (WD) are prepared for visualization. Also, the shapes of the input data tensor (x) and the water depth tensor (WD) is printed for inspection."
   ]
  },
  {
   "cell_type": "code",
   "execution_count": 17,
   "id": "cef6638c-2cf7-49ad-a425-1716d441c3ac",
   "metadata": {},
   "outputs": [],
   "source": [
    "# # David - updated\n",
    "# # select one sample\n",
    "# data_id = 7\n",
    "# t0 = 0\n",
    "\n",
    "# x = test_dataset[data_id][0][0].float().unsqueeze(0).to(device)\n",
    "# WD = test_dataset[data_id][1].squeeze(1)\n",
    "\n",
    "# # Display the shapes of the input data and water depth tensor\n",
    "# print(f\"Shape of input data (x): {x.shape}\")\n",
    "# print(f\"Shape of water depth (WD): {WD.shape}\")\n"
   ]
  },
  {
   "cell_type": "markdown",
   "id": "cce09632",
   "metadata": {},
   "source": [
    "<b>Visualizing Input Data Channels</b>\n",
    "\n",
    "Next, we visualize the input data channels (e.g., terrain elevation, slope in x and y directions) using different colormaps. Individual plots are generated for each channel, providing a visual representation of the input features."
   ]
  },
  {
   "cell_type": "code",
   "execution_count": 18,
   "id": "25fc139e",
   "metadata": {},
   "outputs": [],
   "source": [
    "t0 = 0\n",
    "colormaps = ['terrain', 'coolwarm', 'coolwarm', 'Blues']\n",
    "\n",
    "# Define titles for each channel\n",
    "channel_titles = ['DEM', 'Slope X', 'Slope Y', f'Water Depth t={t0}']\n",
    "\n",
    "# # Plotting the input tensor (x)\n",
    "# x_np = x.squeeze(0).cpu().numpy()  # Convert tensor to NumPy array and remove the batch dimension"
   ]
  },
  {
   "cell_type": "markdown",
   "id": "856390e1",
   "metadata": {},
   "source": [
    "<b>Visualizing Water Depth Over Time</b>\n",
    "\n",
    "Next, the ground truth water depth tensor (WD) is visualized over time. The code generates plots for specific time steps, allowing for the examination of how water depth evolves over the given sequence."
   ]
  },
  {
   "cell_type": "code",
   "execution_count": 19,
   "id": "8224aed1",
   "metadata": {},
   "outputs": [],
   "source": [
    "# # Plotting the WD tensor\n",
    "# WD_np = WD.cpu().numpy()  # Convert tensor to NumPy array\n",
    "\n",
    "# # Assuming WD is a sequence of images (96 time steps)\n",
    "# num_time_steps = WD_np.shape[0]\n",
    "\n",
    "# # Plotting specific time steps (e.g., every 10th time step)\n",
    "# time_steps_to_plot = list(range(0, num_time_steps, 10))"
   ]
  },
  {
   "cell_type": "markdown",
   "id": "f05f6ac6",
   "metadata": {},
   "source": [
    "<b>Predicting Water Depth and Visualization</b>\n",
    "\n",
    "Finally, the neural network model predicts the water depth (pred_WD) for the selected test sample. The predicted water depth is then visualized over specific time steps, providing a comparison between the ground truth and predicted values."
   ]
  },
  {
   "cell_type": "code",
   "execution_count": 20,
   "id": "b5f08f32",
   "metadata": {},
   "outputs": [],
   "source": [
    "# # predict the WD\n",
    "# pred_WD = model(x).detach()\n",
    "\n",
    "# # Convert the predicted tensor to numpy array\n",
    "# pred_WD_np = pred_WD.squeeze(0).cpu().numpy()  # Assuming batch dimension needs to be squeezed\n",
    "\n",
    "# # Plotting specific time steps (e.g., every 10th time step)\n",
    "# time_steps_to_plot_pred = list(range(0, pred_WD_np.shape[0], 10))"
   ]
  },
  {
   "cell_type": "code",
   "execution_count": 21,
   "id": "db0926bf-aec1-4c2b-a02d-f341219a19ab",
   "metadata": {},
   "outputs": [],
   "source": [
    "# david test to generalize to dataset 2\n",
    "\n",
    "import matplotlib.pyplot as plt\n",
    "\n",
    "def predict_and_compare(model, dataset, data_id, t0, device='cuda'):\n",
    "    # select one sample\n",
    "    x = dataset[data_id][0][0].float().unsqueeze(0).to(device)\n",
    "    WD = dataset[data_id][1].squeeze(1)\n",
    "\n",
    "    # Display the shapes of the input data and water depth tensor\n",
    "    print(f\"Shape of input data (x): {x.shape}\")\n",
    "    print(f\"Shape of water depth (WD): {WD.shape}\")\n",
    "\n",
    "    # Define the input tensor (x)\n",
    "    x_np = x.squeeze(0).cpu().numpy()  # Convert tensor to NumPy array and remove the batch dimension\n",
    "\n",
    "    # Define the WD tensor\n",
    "    WD_np = WD.cpu().numpy()  # Convert tensor to NumPy array\n",
    "\n",
    "    # Assuming WD is a sequence of images (96 time steps)\n",
    "    num_time_steps = WD_np.shape[0]\n",
    "\n",
    "    # Plotting specific time steps (e.g., every 10th time step)\n",
    "    time_steps_to_plot = list(range(0, num_time_steps, 10))\n",
    "\n",
    "    # predict the WD\n",
    "    pred_WD = model(x).detach()\n",
    "\n",
    "    # Convert the predicted tensor to numpy array\n",
    "    pred_WD_np = pred_WD.squeeze(0).cpu().numpy()  # Assuming batch dimension needs to be squeezed\n",
    "\n",
    "    return x_np, WD_np, pred_WD_np"
   ]
  },
  {
   "cell_type": "markdown",
   "id": "f37dd216-c404-49f0-985d-c77c952e228d",
   "metadata": {},
   "source": [
    "for test_dataset_1"
   ]
  },
  {
   "cell_type": "code",
   "execution_count": 23,
   "id": "a0134daa-e13e-45ba-af52-70159afa6b75",
   "metadata": {},
   "outputs": [
    {
     "name": "stdout",
     "output_type": "stream",
     "text": [
      "Shape of input data (x): torch.Size([1, 4, 64, 64])\n",
      "Shape of water depth (WD): torch.Size([48, 64, 64])\n"
     ]
    }
   ],
   "source": [
    "x_np1, WD_np1, pred_WD_np1 = predict_and_compare(model, test_dataset1, data_id=7, t0=0, device='cuda')"
   ]
  },
  {
   "cell_type": "markdown",
   "id": "fb632021-0b6f-4473-9c8a-5c2cb06eff5b",
   "metadata": {},
   "source": [
    "for test_dataset_2"
   ]
  },
  {
   "cell_type": "code",
   "execution_count": 24,
   "id": "e43b61a3-6f10-4d23-a1f8-e5ad04bb3de2",
   "metadata": {},
   "outputs": [
    {
     "name": "stdout",
     "output_type": "stream",
     "text": [
      "Shape of input data (x): torch.Size([1, 4, 64, 64])\n",
      "Shape of water depth (WD): torch.Size([48, 64, 64])\n"
     ]
    }
   ],
   "source": [
    "x_np2, WD_np2, pred_WD_np2 = predict_and_compare(model, test_dataset2, data_id=7, t0=0, device='cuda')"
   ]
  },
  {
   "cell_type": "markdown",
   "id": "44ff7c19-9762-429b-9766-3b0451b7fed5",
   "metadata": {},
   "source": [
    "# Visualization"
   ]
  },
  {
   "cell_type": "code",
   "execution_count": 28,
   "id": "1dcfe9c6-0dc4-4050-adc6-627201fc67ac",
   "metadata": {},
   "outputs": [],
   "source": [
    "def create_combined_gif(actual_array, predicted_array, difference_array, dem_map, title, dataset_name, cmap='Blues', loop=0, figsize=(4, 4)):\n",
    "    \"\"\"\n",
    "    Creates a combined GIF with DEM map and multiple subplots for actual, predicted, and difference arrays.\n",
    "\n",
    "    Parameters:\n",
    "    - actual_array (numpy.ndarray): The actual data array.\n",
    "    - predicted_array (numpy.ndarray): The predicted data array.\n",
    "    - difference_array (numpy.ndarray): The difference data array.\n",
    "    - dem_map (numpy.ndarray): The DEM (Digital Elevation Map) array.\n",
    "    - title (str): Title for the GIF and subplots.\n",
    "    - dataset_name (str): Name of the dataset for saving the GIF file.\n",
    "    - cmap (str): Colormap for actual and predicted arrays. Default is 'Blues'.\n",
    "    - loop (int): Number of times to loop the GIF. Default is 0 (no loop).\n",
    "    - figsize (tuple): Figure size for subplots. Default is (4, 4).\n",
    "\n",
    "    Returns:\n",
    "    - str: Filename of the saved GIF.\n",
    "    \"\"\"\n",
    "\n",
    "    # Calculate the constant min and max values for the color scale\n",
    "    min_value = min(difference_array.min(), 0)  # Minimum value set to 0\n",
    "    max_value = max(actual_array.max(), predicted_array.max(), difference_array.max())\n",
    "\n",
    "    images = []\n",
    "    for t in range(actual_array.shape[0]):\n",
    "        fig, axs = plt.subplots(1, 4, figsize=(4 * figsize[0], figsize[1]))  # Create four subplots side by side\n",
    "        im_dem = axs[0].imshow(dem_map, cmap=colormaps[0], origin='lower', vmin=min_value, vmax=max_value)  # Display DEM map\n",
    "        im_actual = axs[1].imshow(actual_array[t], cmap=cmap, origin='lower', vmin=0, vmax=max_value)  # Start from 0 as white\n",
    "        im_predicted = axs[2].imshow(predicted_array[t], cmap=cmap, origin='lower', vmin=0, vmax=max_value)  # Start from 0 as white  \n",
    "\n",
    "        # changed im_difference to make sure the scale is symmetric around zero\n",
    "        im_difference = axs[3].imshow(difference_array[t], cmap='seismic', origin='lower', vmin=-max_value, vmax=max_value)  # Using a specific colormap for difference\n",
    "\n",
    "        fig.colorbar(im_dem, ax=axs[0], fraction=0.046, pad=0.04)\n",
    "        fig.colorbar(im_actual, ax=axs[1], fraction=0.046, pad=0.04)\n",
    "        fig.colorbar(im_predicted, ax=axs[2], fraction=0.046, pad=0.04)\n",
    "        fig.colorbar(im_difference, ax=axs[3], fraction=0.046, pad=0.04)\n",
    "\n",
    "        axs[0].set_title('DEM Map')  # Title for DEM map\n",
    "        axs[1].set_title(f\"Actual {title} {t+1}\")\n",
    "        axs[2].set_title(f\"Predicted {title} {t+1}\")\n",
    "        axs[3].set_title(f\"Difference {title} {t+1}\")\n",
    "\n",
    "        for ax in axs:\n",
    "            ax.axis('off')\n",
    "\n",
    "        plt.tight_layout()\n",
    "\n",
    "        # Convert the figure to an image in memory\n",
    "        buf = io.BytesIO()\n",
    "        plt.savefig(buf, format='png')\n",
    "        buf.seek(0)\n",
    "        images.append(imageio.imread(buf))\n",
    "        plt.close()\n",
    "\n",
    "    # Specify the folder for saving the GIF\n",
    "    save_folder = 'post_processing'\n",
    "    os.makedirs(save_folder, exist_ok=True)  # Create the folder if it doesn't exist\n",
    "\n",
    "    gif_filename = os.path.join(save_folder, f'combined_{title.replace(\" \", \"_\").lower()}_{dataset_name}.gif')\n",
    "    with imageio.get_writer(gif_filename, mode='I', loop=loop) as writer:\n",
    "        for image in images:\n",
    "            writer.append_data(image)\n",
    "\n",
    "    return gif_filename"
   ]
  },
  {
   "cell_type": "markdown",
   "id": "f5091c76-9227-4d96-a2e8-39d419d7a2c7",
   "metadata": {},
   "source": [
    "for test dataset 1"
   ]
  },
  {
   "cell_type": "code",
   "execution_count": 29,
   "id": "b9ffe96c-a68a-4aae-9b0d-39ec7f598f20",
   "metadata": {},
   "outputs": [
    {
     "ename": "NameError",
     "evalue": "name 'imageio' is not defined",
     "output_type": "error",
     "traceback": [
      "\u001b[0;31m---------------------------------------------------------------------------\u001b[0m",
      "\u001b[0;31mNameError\u001b[0m                                 Traceback (most recent call last)",
      "Cell \u001b[0;32mIn[29], line 2\u001b[0m\n\u001b[1;32m      1\u001b[0m dataset_name1 \u001b[38;5;241m=\u001b[39m \u001b[38;5;124m'\u001b[39m\u001b[38;5;124mtest_dataset1\u001b[39m\u001b[38;5;124m'\u001b[39m\n\u001b[0;32m----> 2\u001b[0m combined_gif_with_dem1 \u001b[38;5;241m=\u001b[39m \u001b[43mcreate_combined_gif\u001b[49m\u001b[43m(\u001b[49m\u001b[43mWD_np1\u001b[49m\u001b[43m,\u001b[49m\u001b[43m \u001b[49m\u001b[43mpred_WD_np1\u001b[49m\u001b[43m,\u001b[49m\u001b[43m \u001b[49m\u001b[43mWD_np1\u001b[49m\u001b[43m \u001b[49m\u001b[38;5;241;43m-\u001b[39;49m\u001b[43m \u001b[49m\u001b[43mpred_WD_np1\u001b[49m\u001b[43m,\u001b[49m\u001b[43m \u001b[49m\u001b[43mx_np1\u001b[49m\u001b[43m[\u001b[49m\u001b[38;5;241;43m0\u001b[39;49m\u001b[43m]\u001b[49m\u001b[43m,\u001b[49m\u001b[43m \u001b[49m\u001b[38;5;124;43m'\u001b[39;49m\u001b[38;5;124;43mWater Depth\u001b[39;49m\u001b[38;5;124;43m'\u001b[39;49m\u001b[43m,\u001b[49m\u001b[43m \u001b[49m\u001b[43mdataset_name1\u001b[49m\u001b[43m,\u001b[49m\u001b[43m \u001b[49m\u001b[43mfigsize\u001b[49m\u001b[38;5;241;43m=\u001b[39;49m\u001b[43m(\u001b[49m\u001b[38;5;241;43m3\u001b[39;49m\u001b[43m,\u001b[49m\u001b[43m \u001b[49m\u001b[38;5;241;43m3\u001b[39;49m\u001b[43m)\u001b[49m\u001b[43m)\u001b[49m\n\u001b[1;32m      3\u001b[0m display(Image(filename\u001b[38;5;241m=\u001b[39mcombined_gif_with_dem1))\n",
      "Cell \u001b[0;32mIn[28], line 53\u001b[0m, in \u001b[0;36mcreate_combined_gif\u001b[0;34m(actual_array, predicted_array, difference_array, dem_map, title, dataset_name, cmap, loop, figsize)\u001b[0m\n\u001b[1;32m     51\u001b[0m     plt\u001b[38;5;241m.\u001b[39msavefig(buf, \u001b[38;5;28mformat\u001b[39m\u001b[38;5;241m=\u001b[39m\u001b[38;5;124m'\u001b[39m\u001b[38;5;124mpng\u001b[39m\u001b[38;5;124m'\u001b[39m)\n\u001b[1;32m     52\u001b[0m     buf\u001b[38;5;241m.\u001b[39mseek(\u001b[38;5;241m0\u001b[39m)\n\u001b[0;32m---> 53\u001b[0m     images\u001b[38;5;241m.\u001b[39mappend(\u001b[43mimageio\u001b[49m\u001b[38;5;241m.\u001b[39mimread(buf))\n\u001b[1;32m     54\u001b[0m     plt\u001b[38;5;241m.\u001b[39mclose()\n\u001b[1;32m     56\u001b[0m \u001b[38;5;66;03m# Specify the folder for saving the GIF\u001b[39;00m\n",
      "\u001b[0;31mNameError\u001b[0m: name 'imageio' is not defined"
     ]
    },
    {
     "data": {
      "image/png": "[encoded data removed]",
      "text/plain": [
       "<Figure size 1200x300 with 8 Axes>"
      ]
     },
     "metadata": {},
     "output_type": "display_data"
    }
   ],
   "source": [
    "dataset_name1 = 'test_dataset1'\n",
    "combined_gif_with_dem1 = create_combined_gif(WD_np1, pred_WD_np1, WD_np1 - pred_WD_np1, x_np1[0], 'Water Depth', dataset_name1, figsize=(3, 3))\n",
    "display(Image(filename=combined_gif_with_dem1))"
   ]
  },
  {
   "cell_type": "markdown",
   "id": "b072e60f-0b2d-4673-b2df-29898c16ebc8",
   "metadata": {},
   "source": [
    "for test dataset 2"
   ]
  },
  {
   "cell_type": "code",
   "execution_count": null,
   "id": "6c0e4c06-52eb-47f7-8030-236af76f9f08",
   "metadata": {},
   "outputs": [],
   "source": [
    "dataset_name2 = 'test_dataset2'\n",
    "combined_gif_with_dem2 = create_combined_gif(WD_np2, pred_WD_np2, WD_np2 - pred_WD_np2, x_np2[0], 'Water Depth', dataset_name2, figsize=(3, 3))\n",
    "display(Image(filename=combined_gif_with_dem2))"
   ]
  },
  {
   "cell_type": "code",
   "execution_count": null,
   "id": "33c2c167-6cb1-442d-bfcd-f734984b7407",
   "metadata": {},
   "outputs": [],
   "source": []
  }
 ],
 "metadata": {
  "kernelspec": {
   "display_name": "Python 3 (ipykernel)",
   "language": "python",
   "name": "python3"
  },
  "language_info": {
   "codemirror_mode": {
    "name": "ipython",
    "version": 3
   },
   "file_extension": ".py",
   "mimetype": "text/x-python",
   "name": "python",
   "nbconvert_exporter": "python",
   "pygments_lexer": "ipython3",
   "version": "3.8.18"
  }
 },
 "nbformat": 4,
 "nbformat_minor": 5
}
