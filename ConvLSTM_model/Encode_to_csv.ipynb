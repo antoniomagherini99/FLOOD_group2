{
 "cells": [
  {
   "cell_type": "markdown",
   "metadata": {
    "cell_id": "6745e274f5da440d8f75866d3a55b9d6",
    "deepnote_cell_type": "markdown"
   },
   "source": [
    "# ConvLSTM model"
   ]
  },
  {
   "cell_type": "markdown",
   "metadata": {
    "cell_id": "6e15ddc3ae0f40bda0d72baaa696cba1",
    "deepnote_cell_type": "markdown"
   },
   "source": [
    "Import libraries and modules."
   ]
  },
  {
   "cell_type": "code",
   "execution_count": 1,
   "metadata": {
    "cell_id": "317a1931967a493a820fae093f628cfa",
    "deepnote_cell_type": "code",
    "deepnote_to_be_reexecuted": false,
    "execution_millis": 777,
    "execution_start": 1703258901929,
    "source_hash": "26b410bf"
   },
   "outputs": [],
   "source": [
    "import torch\n",
    "import os\n",
    "# import imageio\n",
    "\n",
    "import numpy as np\n",
    "import pandas as pd\n",
    "# import matplotlib.pyplot as plt\n",
    "# import torch.nn as nn\n",
    "# import torch.nn.functional as F\n",
    "\n",
    "# from numba import jit, prange\n",
    "\n",
    "# from PIL import Image\n",
    "# from sklearn.preprocessing import MinMaxScaler\n",
    "# from torchsummary import summary\n",
    "# from torch.utils.data import DataLoader\n",
    "# from matplotlib.colors import TwoSlopeNorm\n",
    "\n",
    "from load_datasets import *\n",
    "from ConvLSTM_pytorch import *\n",
    "from encode_decode_csv import encode_into_csv"
   ]
  },
  {
   "cell_type": "markdown",
   "metadata": {
    "cell_id": "3b8c87dfefcc4dcb9099e17e1193a568",
    "deepnote_cell_type": "markdown"
   },
   "source": [
    "Check if GPU is available."
   ]
  },
  {
   "cell_type": "code",
   "execution_count": 2,
   "metadata": {
    "cell_id": "388661982cff45b2bff8175da7fa4243",
    "deepnote_cell_type": "code",
    "deepnote_to_be_reexecuted": false,
    "execution_millis": 8,
    "execution_start": 1703258909998,
    "source_hash": "407af93f"
   },
   "outputs": [
    {
     "name": "stdout",
     "output_type": "stream",
     "text": [
      "Using device: cuda\n"
     ]
    }
   ],
   "source": [
    "device = torch.device('cuda' if torch.cuda.is_available() else 'cpu')\n",
    "print(f'Using device: {device}')"
   ]
  },
  {
   "cell_type": "markdown",
   "metadata": {
    "cell_id": "4c107907144b43e5863002290b74aa57",
    "deepnote_cell_type": "markdown"
   },
   "source": [
    "The following lines create variables to more easily specify what we use the model for (i.e., train and validate, test with dataset 1 and so on) in the following functions."
   ]
  },
  {
   "cell_type": "code",
   "execution_count": 3,
   "metadata": {
    "cell_id": "6b7157af37c844b28bc5bf399b6be62b",
    "deepnote_cell_type": "code",
    "deepnote_to_be_reexecuted": false,
    "execution_millis": 8,
    "execution_start": 1703258911722,
    "source_hash": "2f7e85f"
   },
   "outputs": [],
   "source": [
    "train_val = 'train_val'\n",
    "test1 = 'test1'\n",
    "test2 = 'test2'\n",
    "test3 = 'test3'"
   ]
  },
  {
   "cell_type": "markdown",
   "metadata": {
    "cell_id": "5b334a37768c48e1b5fa83c00a44e9f9",
    "deepnote_cell_type": "markdown"
   },
   "source": [
    "Load files."
   ]
  },
  {
   "cell_type": "code",
   "execution_count": 4,
   "metadata": {
    "cell_id": "e0c9b1b5f426489bb5e1009b5d3b2345",
    "deepnote_cell_type": "code",
    "deepnote_to_be_reexecuted": false,
    "execution_millis": 86552,
    "execution_start": 1703262231238,
    "source_hash": "4ff12bd1"
   },
   "outputs": [
    {
     "name": "stdout",
     "output_type": "stream",
     "text": [
      "<re.Match object; span=(4, 5), match='1'>\n",
      "1\n",
      "<re.Match object; span=(4, 6), match='10'>\n",
      "10\n",
      "<re.Match object; span=(4, 6), match='11'>\n",
      "11\n",
      "<re.Match object; span=(4, 6), match='12'>\n",
      "12\n",
      "<re.Match object; span=(4, 6), match='13'>\n",
      "13\n",
      "<re.Match object; span=(4, 6), match='14'>\n",
      "14\n",
      "<re.Match object; span=(4, 6), match='15'>\n",
      "15\n",
      "<re.Match object; span=(4, 6), match='16'>\n",
      "16\n",
      "<re.Match object; span=(4, 6), match='17'>\n",
      "17\n",
      "<re.Match object; span=(4, 6), match='18'>\n",
      "18\n",
      "<re.Match object; span=(4, 6), match='19'>\n",
      "19\n",
      "<re.Match object; span=(4, 5), match='2'>\n",
      "2\n",
      "<re.Match object; span=(4, 6), match='20'>\n",
      "20\n",
      "<re.Match object; span=(4, 6), match='21'>\n",
      "21\n",
      "<re.Match object; span=(4, 6), match='22'>\n",
      "22\n",
      "<re.Match object; span=(4, 6), match='23'>\n",
      "23\n",
      "<re.Match object; span=(4, 6), match='24'>\n",
      "24\n",
      "<re.Match object; span=(4, 6), match='25'>\n",
      "25\n",
      "<re.Match object; span=(4, 6), match='26'>\n",
      "26\n",
      "<re.Match object; span=(4, 6), match='27'>\n",
      "27\n",
      "<re.Match object; span=(4, 6), match='28'>\n",
      "28\n",
      "<re.Match object; span=(4, 6), match='29'>\n",
      "29\n",
      "<re.Match object; span=(4, 5), match='3'>\n",
      "3\n",
      "<re.Match object; span=(4, 6), match='30'>\n",
      "30\n",
      "<re.Match object; span=(4, 6), match='31'>\n",
      "31\n",
      "<re.Match object; span=(4, 6), match='32'>\n",
      "32\n",
      "<re.Match object; span=(4, 6), match='33'>\n",
      "33\n",
      "<re.Match object; span=(4, 6), match='34'>\n",
      "34\n",
      "<re.Match object; span=(4, 6), match='35'>\n",
      "35\n",
      "<re.Match object; span=(4, 6), match='36'>\n",
      "36\n",
      "<re.Match object; span=(4, 6), match='37'>\n",
      "37\n",
      "<re.Match object; span=(4, 6), match='38'>\n",
      "38\n",
      "<re.Match object; span=(4, 6), match='39'>\n",
      "39\n",
      "<re.Match object; span=(4, 5), match='4'>\n",
      "4\n",
      "<re.Match object; span=(4, 6), match='40'>\n",
      "40\n",
      "<re.Match object; span=(4, 6), match='41'>\n",
      "41\n",
      "<re.Match object; span=(4, 6), match='42'>\n",
      "42\n",
      "<re.Match object; span=(4, 6), match='43'>\n",
      "43\n",
      "<re.Match object; span=(4, 6), match='44'>\n",
      "44\n",
      "<re.Match object; span=(4, 6), match='45'>\n",
      "45\n",
      "<re.Match object; span=(4, 6), match='46'>\n",
      "46\n",
      "<re.Match object; span=(4, 6), match='47'>\n",
      "47\n",
      "<re.Match object; span=(4, 6), match='48'>\n",
      "48\n",
      "<re.Match object; span=(4, 6), match='49'>\n",
      "49\n",
      "<re.Match object; span=(4, 5), match='5'>\n",
      "5\n",
      "<re.Match object; span=(4, 6), match='50'>\n",
      "50\n",
      "<re.Match object; span=(4, 6), match='51'>\n",
      "51\n",
      "<re.Match object; span=(4, 6), match='52'>\n",
      "52\n",
      "<re.Match object; span=(4, 6), match='53'>\n",
      "53\n",
      "<re.Match object; span=(4, 6), match='54'>\n",
      "54\n",
      "<re.Match object; span=(4, 6), match='55'>\n",
      "55\n",
      "<re.Match object; span=(4, 6), match='56'>\n",
      "56\n",
      "<re.Match object; span=(4, 6), match='57'>\n",
      "57\n",
      "<re.Match object; span=(4, 6), match='58'>\n",
      "58\n",
      "<re.Match object; span=(4, 6), match='59'>\n",
      "59\n",
      "<re.Match object; span=(4, 5), match='6'>\n",
      "6\n",
      "<re.Match object; span=(4, 6), match='60'>\n",
      "60\n",
      "<re.Match object; span=(4, 6), match='61'>\n",
      "61\n",
      "<re.Match object; span=(4, 6), match='62'>\n",
      "62\n",
      "<re.Match object; span=(4, 6), match='63'>\n",
      "63\n",
      "<re.Match object; span=(4, 6), match='64'>\n",
      "64\n",
      "<re.Match object; span=(4, 6), match='65'>\n",
      "65\n",
      "<re.Match object; span=(4, 6), match='66'>\n",
      "66\n",
      "<re.Match object; span=(4, 6), match='67'>\n",
      "67\n",
      "<re.Match object; span=(4, 6), match='68'>\n",
      "68\n",
      "<re.Match object; span=(4, 6), match='69'>\n",
      "69\n",
      "<re.Match object; span=(4, 5), match='7'>\n",
      "7\n",
      "<re.Match object; span=(4, 6), match='70'>\n",
      "70\n",
      "<re.Match object; span=(4, 6), match='71'>\n",
      "71\n",
      "<re.Match object; span=(4, 6), match='72'>\n",
      "72\n",
      "<re.Match object; span=(4, 6), match='73'>\n",
      "73\n",
      "Unexpected exception formatting exception. Falling back to standard exception\n"
     ]
    },
    {
     "name": "stderr",
     "output_type": "stream",
     "text": [
      "Traceback (most recent call last):\n",
      "  File \"C:\\Users\\Admin\\anaconda3\\envs\\dsaie\\lib\\site-packages\\IPython\\core\\interactiveshell.py\", line 3550, in run_code\n",
      "    exec(code_obj, self.user_global_ns, self.user_ns)\n",
      "  File \"C:\\Users\\Admin\\AppData\\Local\\Temp\\ipykernel_10940\\3251486199.py\", line 1, in <module>\n",
      "    inputs, targets = load_all_boys('train_val')\n",
      "  File \"C:\\Users\\Admin\\Documents\\GitHub\\FLOOD_group2\\ConvLSTM_model\\load_datasets.py\", line 244, in load_all_boys\n",
      "  File \"C:\\Users\\Admin\\Documents\\GitHub\\FLOOD_group2\\ConvLSTM_model\\load_datasets.py\", line 201, in compute_targets\n",
      "    discharge = water_depth * magnitude # per meter width\n",
      "  File \"C:\\Users\\Admin\\Documents\\GitHub\\FLOOD_group2\\ConvLSTM_model\\load_datasets.py\", line 156, in process_velocities\n",
      "    with open(file_path_x, 'r') as file:\n",
      "  File \"C:\\Users\\Admin\\anaconda3\\envs\\dsaie\\lib\\site-packages\\numpy\\lib\\npyio.py\", line 1356, in loadtxt\n",
      "    arr = _read(fname, dtype=dtype, comment=comment, delimiter=delimiter,\n",
      "  File \"C:\\Users\\Admin\\anaconda3\\envs\\dsaie\\lib\\site-packages\\numpy\\lib\\npyio.py\", line 999, in _read\n",
      "    arr = _load_from_filelike(\n",
      "  File \"C:\\Users\\Admin\\anaconda3\\envs\\dsaie\\lib\\encodings\\cp1252.py\", line 22, in decode\n",
      "    def decode(self, input, final=False):\n",
      "KeyboardInterrupt\n",
      "\n",
      "During handling of the above exception, another exception occurred:\n",
      "\n",
      "Traceback (most recent call last):\n",
      "  File \"C:\\Users\\Admin\\anaconda3\\envs\\dsaie\\lib\\site-packages\\IPython\\core\\interactiveshell.py\", line 2144, in showtraceback\n",
      "    stb = self.InteractiveTB.structured_traceback(\n",
      "  File \"C:\\Users\\Admin\\anaconda3\\envs\\dsaie\\lib\\site-packages\\IPython\\core\\ultratb.py\", line 1435, in structured_traceback\n",
      "    return FormattedTB.structured_traceback(\n",
      "  File \"C:\\Users\\Admin\\anaconda3\\envs\\dsaie\\lib\\site-packages\\IPython\\core\\ultratb.py\", line 1326, in structured_traceback\n",
      "    return VerboseTB.structured_traceback(\n",
      "  File \"C:\\Users\\Admin\\anaconda3\\envs\\dsaie\\lib\\site-packages\\IPython\\core\\ultratb.py\", line 1173, in structured_traceback\n",
      "    formatted_exception = self.format_exception_as_a_whole(etype, evalue, etb, number_of_lines_of_context,\n",
      "  File \"C:\\Users\\Admin\\anaconda3\\envs\\dsaie\\lib\\site-packages\\IPython\\core\\ultratb.py\", line 1088, in format_exception_as_a_whole\n",
      "    frames.append(self.format_record(record))\n",
      "  File \"C:\\Users\\Admin\\anaconda3\\envs\\dsaie\\lib\\site-packages\\IPython\\core\\ultratb.py\", line 970, in format_record\n",
      "    frame_info.lines, Colors, self.has_colors, lvals\n",
      "  File \"C:\\Users\\Admin\\anaconda3\\envs\\dsaie\\lib\\site-packages\\IPython\\core\\ultratb.py\", line 792, in lines\n",
      "    return self._sd.lines\n",
      "  File \"C:\\Users\\Admin\\anaconda3\\envs\\dsaie\\lib\\site-packages\\stack_data\\utils.py\", line 144, in cached_property_wrapper\n",
      "    value = obj.__dict__[self.func.__name__] = self.func(obj)\n",
      "  File \"C:\\Users\\Admin\\anaconda3\\envs\\dsaie\\lib\\site-packages\\stack_data\\core.py\", line 734, in lines\n",
      "    pieces = self.included_pieces\n",
      "  File \"C:\\Users\\Admin\\anaconda3\\envs\\dsaie\\lib\\site-packages\\stack_data\\utils.py\", line 144, in cached_property_wrapper\n",
      "    value = obj.__dict__[self.func.__name__] = self.func(obj)\n",
      "  File \"C:\\Users\\Admin\\anaconda3\\envs\\dsaie\\lib\\site-packages\\stack_data\\core.py\", line 681, in included_pieces\n",
      "    pos = scope_pieces.index(self.executing_piece)\n",
      "  File \"C:\\Users\\Admin\\anaconda3\\envs\\dsaie\\lib\\site-packages\\stack_data\\utils.py\", line 144, in cached_property_wrapper\n",
      "    value = obj.__dict__[self.func.__name__] = self.func(obj)\n",
      "  File \"C:\\Users\\Admin\\anaconda3\\envs\\dsaie\\lib\\site-packages\\stack_data\\core.py\", line 660, in executing_piece\n",
      "    return only(\n",
      "  File \"C:\\Users\\Admin\\anaconda3\\envs\\dsaie\\lib\\site-packages\\executing\\executing.py\", line 116, in only\n",
      "    raise NotOneValueFound('Expected one value, found 0')\n",
      "executing.executing.NotOneValueFound: Expected one value, found 0\n"
     ]
    }
   ],
   "source": [
    "inputs, targets = load_all_boys('train_val')"
   ]
  },
  {
   "cell_type": "code",
   "execution_count": null,
   "metadata": {},
   "outputs": [],
   "source": [
    "inps, targs = encode_into_csv(inputs, targets, train_val)"
   ]
  },
  {
   "cell_type": "markdown",
   "metadata": {},
   "source": [
    "Test dataset 1."
   ]
  },
  {
   "cell_type": "code",
   "execution_count": null,
   "metadata": {
    "scrolled": false
   },
   "outputs": [],
   "source": [
    "inps1, targs1 = load_all_boys(test1)"
   ]
  },
  {
   "cell_type": "code",
   "execution_count": null,
   "metadata": {},
   "outputs": [],
   "source": [
    "inps1, targs1 = encode_into_csv(inps1, targs1, test1)"
   ]
  },
  {
   "cell_type": "markdown",
   "metadata": {},
   "source": [
    "Test dataset 2."
   ]
  },
  {
   "cell_type": "code",
   "execution_count": null,
   "metadata": {},
   "outputs": [],
   "source": [
    "inps2, targs2 = load_all_boys(test2)"
   ]
  },
  {
   "cell_type": "code",
   "execution_count": null,
   "metadata": {},
   "outputs": [],
   "source": [
    "inps2, targs2 = encode_into_csv(inps2, targs2, test2)"
   ]
  },
  {
   "cell_type": "markdown",
   "metadata": {},
   "source": [
    "Test dataset 3."
   ]
  },
  {
   "cell_type": "code",
   "execution_count": null,
   "metadata": {},
   "outputs": [],
   "source": [
    "inps3, targs3 = load_all_boys(test3)"
   ]
  },
  {
   "cell_type": "code",
   "execution_count": null,
   "metadata": {},
   "outputs": [],
   "source": [
    "inps3, targs3 = encode_into_csv(inps3, targs3, test3)"
   ]
  },
  {
   "cell_type": "code",
   "execution_count": null,
   "metadata": {},
   "outputs": [],
   "source": [
    "inps3, targs3 = decode_from_csv(test3)"
   ]
  }
 ],
 "metadata": {
  "deepnote": {},
  "deepnote_execution_queue": [],
  "deepnote_notebook_id": "4b953ff8b2a04095993ca3c1d8d4427b",
  "deepnote_persisted_session": {
   "createdAt": "2023-12-22T15:19:57.116Z"
  },
  "kernelspec": {
   "display_name": "Python 3 (ipykernel)",
   "language": "python",
   "name": "python3"
  },
  "language_info": {
   "codemirror_mode": {
    "name": "ipython",
    "version": 3
   },
   "file_extension": ".py",
   "mimetype": "text/x-python",
   "name": "python",
   "nbconvert_exporter": "python",
   "pygments_lexer": "ipython3",
   "version": "3.9.17"
  }
 },
 "nbformat": 4,
 "nbformat_minor": 1
}
