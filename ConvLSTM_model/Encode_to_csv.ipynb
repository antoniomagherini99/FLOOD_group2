{
 "cells": [
  {
   "cell_type": "markdown",
   "metadata": {
    "cell_id": "6745e274f5da440d8f75866d3a55b9d6",
    "deepnote_cell_type": "markdown"
   },
   "source": [
    "# Encode all files into csv to reduce loading time"
   ]
  },
  {
   "cell_type": "markdown",
   "metadata": {
    "cell_id": "6e15ddc3ae0f40bda0d72baaa696cba1",
    "deepnote_cell_type": "markdown"
   },
   "source": [
    "Import libraries and modules."
   ]
  },
  {
   "cell_type": "code",
   "execution_count": 1,
   "metadata": {
    "cell_id": "317a1931967a493a820fae093f628cfa",
    "deepnote_cell_type": "code",
    "deepnote_to_be_reexecuted": false,
    "execution_millis": 777,
    "execution_start": 1703258901929,
    "source_hash": "26b410bf"
   },
   "outputs": [],
   "source": [
    "import torch\n",
    "\n",
    "import numpy as np\n",
    "import pandas as pd\n",
    "\n",
    "from load_datasets import *\n",
    "from encode_decode_csv import encode_into_csv"
   ]
  },
  {
   "cell_type": "markdown",
   "metadata": {
    "cell_id": "3b8c87dfefcc4dcb9099e17e1193a568",
    "deepnote_cell_type": "markdown"
   },
   "source": [
    "Check if GPU is available."
   ]
  },
  {
   "cell_type": "code",
   "execution_count": 2,
   "metadata": {
    "cell_id": "388661982cff45b2bff8175da7fa4243",
    "deepnote_cell_type": "code",
    "deepnote_to_be_reexecuted": false,
    "execution_millis": 8,
    "execution_start": 1703258909998,
    "source_hash": "407af93f"
   },
   "outputs": [
    {
     "name": "stdout",
     "output_type": "stream",
     "text": [
      "Using device: cuda\n"
     ]
    }
   ],
   "source": [
    "device = torch.device('cuda' if torch.cuda.is_available() else 'cpu')\n",
    "print(f'Using device: {device}')"
   ]
  },
  {
   "cell_type": "markdown",
   "metadata": {
    "cell_id": "4c107907144b43e5863002290b74aa57",
    "deepnote_cell_type": "markdown"
   },
   "source": [
    "The following lines create variables to more easily specify what we use the model for (i.e., train and validate, test with dataset 1 and so on) in the following functions."
   ]
  },
  {
   "cell_type": "code",
   "execution_count": 3,
   "metadata": {
    "cell_id": "6b7157af37c844b28bc5bf399b6be62b",
    "deepnote_cell_type": "code",
    "deepnote_to_be_reexecuted": false,
    "execution_millis": 8,
    "execution_start": 1703258911722,
    "source_hash": "2f7e85f"
   },
   "outputs": [],
   "source": [
    "train_val = 'train_val'\n",
    "test1 = 'test1'\n",
    "test2 = 'test2'\n",
    "test3 = 'test3'"
   ]
  },
  {
   "cell_type": "markdown",
   "metadata": {
    "cell_id": "5b334a37768c48e1b5fa83c00a44e9f9",
    "deepnote_cell_type": "markdown"
   },
   "source": [
    "Load files."
   ]
  },
  {
   "cell_type": "code",
   "execution_count": null,
   "metadata": {
    "cell_id": "e0c9b1b5f426489bb5e1009b5d3b2345",
    "deepnote_cell_type": "code",
    "deepnote_to_be_reexecuted": false,
    "execution_millis": 86552,
    "execution_start": 1703262231238,
    "scrolled": true,
    "source_hash": "4ff12bd1"
   },
   "outputs": [],
   "source": [
    "inputs, targets = load_all_boys('train_val')"
   ]
  },
  {
   "cell_type": "code",
   "execution_count": null,
   "metadata": {},
   "outputs": [],
   "source": [
    "inps, targs = encode_into_csv(inputs, targets, train_val)"
   ]
  },
  {
   "cell_type": "markdown",
   "metadata": {},
   "source": [
    "Test dataset 1."
   ]
  },
  {
   "cell_type": "code",
   "execution_count": null,
   "metadata": {
    "scrolled": false
   },
   "outputs": [],
   "source": [
    "inps1, targs1 = load_all_boys(test1)"
   ]
  },
  {
   "cell_type": "code",
   "execution_count": null,
   "metadata": {},
   "outputs": [],
   "source": [
    "inps1, targs1 = encode_into_csv(inps1, targs1, test1)"
   ]
  },
  {
   "cell_type": "markdown",
   "metadata": {},
   "source": [
    "Test dataset 2."
   ]
  },
  {
   "cell_type": "code",
   "execution_count": 4,
   "metadata": {},
   "outputs": [
    {
     "name": "stdout",
     "output_type": "stream",
     "text": [
      "<re.Match object; span=(4, 9), match='10000'>\n",
      "10000\n",
      "<re.Match object; span=(4, 9), match='10001'>\n",
      "10001\n",
      "<re.Match object; span=(4, 9), match='10002'>\n",
      "10002\n",
      "<re.Match object; span=(4, 9), match='10003'>\n",
      "10003\n",
      "<re.Match object; span=(4, 9), match='10004'>\n",
      "10004\n",
      "<re.Match object; span=(4, 9), match='10005'>\n",
      "10005\n",
      "<re.Match object; span=(4, 9), match='10006'>\n",
      "10006\n",
      "<re.Match object; span=(4, 9), match='10007'>\n",
      "10007\n",
      "<re.Match object; span=(4, 9), match='10008'>\n",
      "10008\n",
      "<re.Match object; span=(4, 9), match='10009'>\n",
      "10009\n",
      "<re.Match object; span=(4, 9), match='10010'>\n",
      "10010\n",
      "<re.Match object; span=(4, 9), match='10011'>\n",
      "10011\n",
      "<re.Match object; span=(4, 9), match='10012'>\n",
      "10012\n",
      "<re.Match object; span=(4, 9), match='10013'>\n",
      "10013\n",
      "<re.Match object; span=(4, 9), match='10014'>\n",
      "10014\n",
      "<re.Match object; span=(4, 9), match='10015'>\n",
      "10015\n",
      "<re.Match object; span=(4, 9), match='10016'>\n",
      "10016\n",
      "<re.Match object; span=(4, 9), match='10017'>\n",
      "10017\n",
      "<re.Match object; span=(4, 9), match='10018'>\n",
      "10018\n",
      "<re.Match object; span=(4, 9), match='10019'>\n",
      "10019\n",
      "<re.Match object; span=(4, 9), match='10020'>\n",
      "10020\n"
     ]
    }
   ],
   "source": [
    "inps2, targs2 = load_all_boys(test2)"
   ]
  },
  {
   "cell_type": "code",
   "execution_count": 5,
   "metadata": {},
   "outputs": [],
   "source": [
    "inps2, targs2 = encode_into_csv(inps2, targs2, test2)"
   ]
  },
  {
   "cell_type": "markdown",
   "metadata": {},
   "source": [
    "Test dataset 3."
   ]
  },
  {
   "cell_type": "code",
   "execution_count": null,
   "metadata": {
    "scrolled": true
   },
   "outputs": [],
   "source": [
    "inps3, targs3 = load_all_boys(test3)"
   ]
  },
  {
   "cell_type": "code",
   "execution_count": null,
   "metadata": {},
   "outputs": [],
   "source": [
    "inps3, targs3 = encode_into_csv(inps3, targs3, test3)"
   ]
  },
  {
   "cell_type": "code",
   "execution_count": null,
   "metadata": {},
   "outputs": [],
   "source": []
  }
 ],
 "metadata": {
  "deepnote": {},
  "deepnote_execution_queue": [],
  "deepnote_notebook_id": "4b953ff8b2a04095993ca3c1d8d4427b",
  "deepnote_persisted_session": {
   "createdAt": "2023-12-22T15:19:57.116Z"
  },
  "kernelspec": {
   "display_name": "Python 3 (ipykernel)",
   "language": "python",
   "name": "python3"
  },
  "language_info": {
   "codemirror_mode": {
    "name": "ipython",
    "version": 3
   },
   "file_extension": ".py",
   "mimetype": "text/x-python",
   "name": "python",
   "nbconvert_exporter": "python",
   "pygments_lexer": "ipython3",
   "version": "3.9.17"
  }
 },
 "nbformat": 4,
 "nbformat_minor": 1
}
