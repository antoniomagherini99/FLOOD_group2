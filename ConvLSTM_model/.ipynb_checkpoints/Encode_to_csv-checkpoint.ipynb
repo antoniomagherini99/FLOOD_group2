{
 "cells": [
  {
   "cell_type": "markdown",
   "metadata": {
    "cell_id": "6745e274f5da440d8f75866d3a55b9d6",
    "deepnote_cell_type": "markdown"
   },
   "source": [
    "# ConvLSTM model"
   ]
  },
  {
   "cell_type": "markdown",
   "metadata": {
    "cell_id": "6e15ddc3ae0f40bda0d72baaa696cba1",
    "deepnote_cell_type": "markdown"
   },
   "source": [
    "Import libraries and modules."
   ]
  },
  {
   "cell_type": "code",
   "execution_count": 1,
   "metadata": {
    "cell_id": "317a1931967a493a820fae093f628cfa",
    "deepnote_cell_type": "code",
    "deepnote_to_be_reexecuted": false,
    "execution_millis": 777,
    "execution_start": 1703258901929,
    "source_hash": "26b410bf"
   },
   "outputs": [],
   "source": [
    "import torch\n",
    "import os\n",
    "# import imageio\n",
    "\n",
    "import numpy as np\n",
    "import pandas as pd\n",
    "# import matplotlib.pyplot as plt\n",
    "# import torch.nn as nn\n",
    "# import torch.nn.functional as F\n",
    "\n",
    "# from numba import jit, prange\n",
    "\n",
    "# from PIL import Image\n",
    "# from sklearn.preprocessing import MinMaxScaler\n",
    "# from torchsummary import summary\n",
    "# from torch.utils.data import DataLoader\n",
    "# from matplotlib.colors import TwoSlopeNorm\n",
    "\n",
    "from load_datasets import *\n",
    "from ConvLSTM_pytorch import *\n",
    "from encode_decode_csv import encode_into_csv"
   ]
  },
  {
   "cell_type": "markdown",
   "metadata": {
    "cell_id": "3b8c87dfefcc4dcb9099e17e1193a568",
    "deepnote_cell_type": "markdown"
   },
   "source": [
    "Check if GPU is available."
   ]
  },
  {
   "cell_type": "code",
   "execution_count": 2,
   "metadata": {
    "cell_id": "388661982cff45b2bff8175da7fa4243",
    "deepnote_cell_type": "code",
    "deepnote_to_be_reexecuted": false,
    "execution_millis": 8,
    "execution_start": 1703258909998,
    "source_hash": "407af93f"
   },
   "outputs": [
    {
     "name": "stdout",
     "output_type": "stream",
     "text": [
      "Using device: cuda\n"
     ]
    }
   ],
   "source": [
    "device = torch.device('cuda' if torch.cuda.is_available() else 'cpu')\n",
    "print(f'Using device: {device}')"
   ]
  },
  {
   "cell_type": "markdown",
   "metadata": {
    "cell_id": "4c107907144b43e5863002290b74aa57",
    "deepnote_cell_type": "markdown"
   },
   "source": [
    "The following lines create variables to more easily specify what we use the model for (i.e., train and validate, test with dataset 1 and so on) in the following functions."
   ]
  },
  {
   "cell_type": "code",
   "execution_count": 3,
   "metadata": {
    "cell_id": "6b7157af37c844b28bc5bf399b6be62b",
    "deepnote_cell_type": "code",
    "deepnote_to_be_reexecuted": false,
    "execution_millis": 8,
    "execution_start": 1703258911722,
    "source_hash": "2f7e85f"
   },
   "outputs": [],
   "source": [
    "train_val = 'train_val'\n",
    "test1 = 'test1'\n",
    "test2 = 'test2'\n",
    "test3 = 'test3'"
   ]
  },
  {
   "cell_type": "markdown",
   "metadata": {
    "cell_id": "5b334a37768c48e1b5fa83c00a44e9f9",
    "deepnote_cell_type": "markdown"
   },
   "source": [
    "Load files."
   ]
  },
  {
   "cell_type": "code",
   "execution_count": null,
   "metadata": {
    "cell_id": "e0c9b1b5f426489bb5e1009b5d3b2345",
    "deepnote_cell_type": "code",
    "deepnote_to_be_reexecuted": false,
    "execution_millis": 86552,
    "execution_start": 1703262231238,
    "source_hash": "4ff12bd1"
   },
   "outputs": [],
   "source": [
    "inputs, targets = load_all_boys('train_val')"
   ]
  },
  {
   "cell_type": "code",
   "execution_count": null,
   "metadata": {},
   "outputs": [],
   "source": [
    "inps, targs = encode_into_csv(inputs, targets, train_val)"
   ]
  },
  {
   "cell_type": "markdown",
   "metadata": {},
   "source": [
    "Test dataset 1."
   ]
  },
  {
   "cell_type": "code",
   "execution_count": 4,
   "metadata": {
    "scrolled": false
   },
   "outputs": [
    {
     "name": "stdout",
     "output_type": "stream",
     "text": [
      "<re.Match object; span=(4, 7), match='500'>\n",
      "500\n",
      "<re.Match object; span=(4, 7), match='501'>\n",
      "501\n",
      "<re.Match object; span=(4, 7), match='502'>\n",
      "502\n",
      "<re.Match object; span=(4, 7), match='503'>\n",
      "503\n",
      "<re.Match object; span=(4, 7), match='504'>\n",
      "504\n"
     ]
    },
    {
     "ename": "KeyboardInterrupt",
     "evalue": "",
     "output_type": "error",
     "traceback": [
      "\u001b[1;31m---------------------------------------------------------------------------\u001b[0m",
      "\u001b[1;31mKeyboardInterrupt\u001b[0m                         Traceback (most recent call last)",
      "Cell \u001b[1;32mIn[4], line 1\u001b[0m\n\u001b[1;32m----> 1\u001b[0m inps1, targs1 \u001b[38;5;241m=\u001b[39m \u001b[43mload_all_boys\u001b[49m\u001b[43m(\u001b[49m\u001b[43mtest1\u001b[49m\u001b[43m)\u001b[49m\n",
      "File \u001b[1;32m~\\Documents\\GitHub\\FLOOD_group2\\ConvLSTM_model\\load_datasets.py:241\u001b[0m, in \u001b[0;36mload_all_boys\u001b[1;34m(train_val_test, time)\u001b[0m\n\u001b[0;32m    239\u001b[0m     inputs[i] \u001b[38;5;241m=\u001b[39m process_elevation_data(\u001b[38;5;28mint\u001b[39m(file_number\u001b[38;5;241m.\u001b[39mgroup()), train_val_test)\n\u001b[0;32m    240\u001b[0m     \u001b[38;5;28;01mfor\u001b[39;00m t \u001b[38;5;129;01min\u001b[39;00m \u001b[38;5;28mrange\u001b[39m(time):\n\u001b[1;32m--> 241\u001b[0m         targets[i, t] \u001b[38;5;241m=\u001b[39m \u001b[43mcompute_targets\u001b[49m\u001b[43m(\u001b[49m\u001b[38;5;28;43mint\u001b[39;49m\u001b[43m(\u001b[49m\u001b[43mfile_number\u001b[49m\u001b[38;5;241;43m.\u001b[39;49m\u001b[43mgroup\u001b[49m\u001b[43m(\u001b[49m\u001b[43m)\u001b[49m\u001b[43m)\u001b[49m\u001b[43m,\u001b[49m\u001b[43m \u001b[49m\u001b[43mtrain_val_test\u001b[49m\u001b[43m,\u001b[49m\u001b[43m \u001b[49m\u001b[43mtime_step\u001b[49m\u001b[43m \u001b[49m\u001b[38;5;241;43m=\u001b[39;49m\u001b[43m \u001b[49m\u001b[43mt\u001b[49m\u001b[43m)\u001b[49m\n\u001b[0;32m    242\u001b[0m     i \u001b[38;5;241m+\u001b[39m\u001b[38;5;241m=\u001b[39m \u001b[38;5;241m1\u001b[39m\n\u001b[0;32m    243\u001b[0m \u001b[38;5;28;01mreturn\u001b[39;00m inputs, targets\n",
      "File \u001b[1;32m~\\Documents\\GitHub\\FLOOD_group2\\ConvLSTM_model\\load_datasets.py:198\u001b[0m, in \u001b[0;36mcompute_targets\u001b[1;34m(file_id, train_val_test, time_step)\u001b[0m\n\u001b[0;32m    183\u001b[0m \u001b[38;5;250m\u001b[39m\u001b[38;5;124;03m\"\"\"\u001b[39;00m\n\u001b[0;32m    184\u001b[0m \u001b[38;5;124;03mUse process_velocities and process_water_depth to compute discharge\u001b[39;00m\n\u001b[0;32m    185\u001b[0m \n\u001b[1;32m   (...)\u001b[0m\n\u001b[0;32m    195\u001b[0m \u001b[38;5;124;03mtargets: A torch.tensor which is 2 x 64 x 64. Both targets are water depth and discharge respectively\u001b[39;00m\n\u001b[0;32m    196\u001b[0m \u001b[38;5;124;03m\"\"\"\u001b[39;00m\n\u001b[0;32m    197\u001b[0m water_depth \u001b[38;5;241m=\u001b[39m process_water_depth(file_id, train_val_test, time_step)\n\u001b[1;32m--> 198\u001b[0m vx, vy \u001b[38;5;241m=\u001b[39m \u001b[43mprocess_velocities\u001b[49m\u001b[43m(\u001b[49m\u001b[43mfile_id\u001b[49m\u001b[43m,\u001b[49m\u001b[43m \u001b[49m\u001b[43mtrain_val_test\u001b[49m\u001b[43m,\u001b[49m\u001b[43m \u001b[49m\u001b[43mtime_step\u001b[49m\u001b[43m)\u001b[49m\n\u001b[0;32m    200\u001b[0m magnitude \u001b[38;5;241m=\u001b[39m torch\u001b[38;5;241m.\u001b[39msqrt(vx\u001b[38;5;241m*\u001b[39m\u001b[38;5;241m*\u001b[39m\u001b[38;5;241m2\u001b[39m \u001b[38;5;241m+\u001b[39m vy\u001b[38;5;241m*\u001b[39m\u001b[38;5;241m*\u001b[39m\u001b[38;5;241m2\u001b[39m)\n\u001b[0;32m    201\u001b[0m discharge \u001b[38;5;241m=\u001b[39m water_depth \u001b[38;5;241m*\u001b[39m magnitude \u001b[38;5;66;03m# per meter width\u001b[39;00m\n",
      "File \u001b[1;32m~\\Documents\\GitHub\\FLOOD_group2\\ConvLSTM_model\\load_datasets.py:160\u001b[0m, in \u001b[0;36mprocess_velocities\u001b[1;34m(file_id, train_val_test, time_step)\u001b[0m\n\u001b[0;32m    157\u001b[0m     lines_x \u001b[38;5;241m=\u001b[39m file\u001b[38;5;241m.\u001b[39mreadlines()\n\u001b[0;32m    159\u001b[0m \u001b[38;5;28;01mwith\u001b[39;00m \u001b[38;5;28mopen\u001b[39m(file_path_y, \u001b[38;5;124m'\u001b[39m\u001b[38;5;124mr\u001b[39m\u001b[38;5;124m'\u001b[39m) \u001b[38;5;28;01mas\u001b[39;00m file:\n\u001b[1;32m--> 160\u001b[0m     lines_y \u001b[38;5;241m=\u001b[39m \u001b[43mfile\u001b[49m\u001b[38;5;241;43m.\u001b[39;49m\u001b[43mreadlines\u001b[49m\u001b[43m(\u001b[49m\u001b[43m)\u001b[49m\n\u001b[0;32m    162\u001b[0m \u001b[38;5;28;01mtry\u001b[39;00m:\n\u001b[0;32m    163\u001b[0m     \u001b[38;5;66;03m# Extract the specified row and convert string elements to floats\u001b[39;00m\n\u001b[0;32m    164\u001b[0m     selected_row_x \u001b[38;5;241m=\u001b[39m lines_x[time_step]\u001b[38;5;241m.\u001b[39msplit()\n",
      "File \u001b[1;32m~\\anaconda3\\envs\\dsaie\\lib\\encodings\\cp1252.py:22\u001b[0m, in \u001b[0;36mIncrementalDecoder.decode\u001b[1;34m(self, input, final)\u001b[0m\n\u001b[0;32m     21\u001b[0m \u001b[38;5;28;01mclass\u001b[39;00m \u001b[38;5;21;01mIncrementalDecoder\u001b[39;00m(codecs\u001b[38;5;241m.\u001b[39mIncrementalDecoder):\n\u001b[1;32m---> 22\u001b[0m     \u001b[38;5;28;01mdef\u001b[39;00m \u001b[38;5;21mdecode\u001b[39m(\u001b[38;5;28mself\u001b[39m, \u001b[38;5;28minput\u001b[39m, final\u001b[38;5;241m=\u001b[39m\u001b[38;5;28;01mFalse\u001b[39;00m):\n\u001b[0;32m     23\u001b[0m         \u001b[38;5;28;01mreturn\u001b[39;00m codecs\u001b[38;5;241m.\u001b[39mcharmap_decode(\u001b[38;5;28minput\u001b[39m,\u001b[38;5;28mself\u001b[39m\u001b[38;5;241m.\u001b[39merrors,decoding_table)[\u001b[38;5;241m0\u001b[39m]\n",
      "\u001b[1;31mKeyboardInterrupt\u001b[0m: "
     ]
    }
   ],
   "source": [
    "inps1, targs1 = load_all_boys(test1)"
   ]
  },
  {
   "cell_type": "code",
   "execution_count": null,
   "metadata": {},
   "outputs": [],
   "source": [
    "inps1, targs1 = encode_into_csv(inps1, targs1, test1)"
   ]
  },
  {
   "cell_type": "markdown",
   "metadata": {},
   "source": [
    "Test dataset 2."
   ]
  },
  {
   "cell_type": "code",
   "execution_count": null,
   "metadata": {},
   "outputs": [],
   "source": [
    "inps2, targs2 = load_all_boys(test2)"
   ]
  },
  {
   "cell_type": "code",
   "execution_count": null,
   "metadata": {},
   "outputs": [],
   "source": [
    "inps2, targs2 = encode_into_csv(inps2, targs2, test2)"
   ]
  },
  {
   "cell_type": "markdown",
   "metadata": {},
   "source": [
    "Test dataset 3."
   ]
  },
  {
   "cell_type": "code",
   "execution_count": null,
   "metadata": {},
   "outputs": [],
   "source": [
    "inps3, targs3 = load_all_boys(test3)"
   ]
  },
  {
   "cell_type": "code",
   "execution_count": null,
   "metadata": {},
   "outputs": [],
   "source": [
    "inps3, targs3 = encode_into_csv(inps3, targs3, test3)"
   ]
  },
  {
   "cell_type": "code",
   "execution_count": null,
   "metadata": {},
   "outputs": [],
   "source": [
    "inps3, targs3 = decode_from_csv(test3)"
   ]
  }
 ],
 "metadata": {
  "deepnote": {},
  "deepnote_execution_queue": [],
  "deepnote_notebook_id": "4b953ff8b2a04095993ca3c1d8d4427b",
  "deepnote_persisted_session": {
   "createdAt": "2023-12-22T15:19:57.116Z"
  },
  "kernelspec": {
   "display_name": "Python 3 (ipykernel)",
   "language": "python",
   "name": "python3"
  },
  "language_info": {
   "codemirror_mode": {
    "name": "ipython",
    "version": 3
   },
   "file_extension": ".py",
   "mimetype": "text/x-python",
   "name": "python",
   "nbconvert_exporter": "python",
   "pygments_lexer": "ipython3",
   "version": "3.9.17"
  }
 },
 "nbformat": 4,
 "nbformat_minor": 1
}
